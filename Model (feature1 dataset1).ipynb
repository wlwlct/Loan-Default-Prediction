{
 "cells": [
  {
   "cell_type": "markdown",
   "metadata": {},
   "source": [
    "### import library, data and selected features"
   ]
  },
  {
   "cell_type": "code",
   "execution_count": 1,
   "metadata": {},
   "outputs": [
    {
     "name": "stderr",
     "output_type": "stream",
     "text": [
      "/opt/anaconda3/lib/python3.8/site-packages/xgboost/compat.py:36: FutureWarning: pandas.Int64Index is deprecated and will be removed from pandas in a future version. Use pandas.Index with the appropriate dtype instead.\n",
      "  from pandas import MultiIndex, Int64Index\n"
     ]
    }
   ],
   "source": [
    "import pandas as pd\n",
    "import numpy as np\n",
    "import seaborn as sns\n",
    "import plotly.express as px\n",
    "import matplotlib.pyplot as plt\n",
    "from imblearn.under_sampling import RandomUnderSampler\n",
    "\n",
    "# import package for model building\n",
    "from sklearn.model_selection import train_test_split\n",
    "from imblearn.under_sampling import RandomUnderSampler\n",
    "from sklearn.preprocessing import MinMaxScaler, StandardScaler, OneHotEncoder\n",
    "from sklearn.ensemble import RandomForestClassifier\n",
    "from sklearn.linear_model import LogisticRegression\n",
    "from sklearn.tree import DecisionTreeClassifier\n",
    "from xgboost import XGBClassifier\n",
    "\n",
    "\n",
    "from sklearn.metrics import classification_report, confusion_matrix, roc_auc_score, roc_curve, recall_score\n",
    "from sklearn.model_selection import GridSearchCV, RandomizedSearchCV\n",
    "\n",
    "from tensorflow import keras\n",
    "from keras.models import Sequential\n",
    "from keras.layers import Dense\n",
    "from keras.models import load_model\n",
    "from keras.utils.np_utils import to_categorical\n",
    "\n",
    "\n",
    "\n",
    "# import cleaned dataset\n",
    "accepted_cleaned = pd.read_csv('./cleaned dataset V2.csv')\n",
    "accepted_cleaned.drop(columns=['Unnamed: 0','addr_state'],inplace=True)\n",
    "accepted_cleaned.head()\n",
    "\n",
    "# adjust the import error\n",
    "accepted_cleaned['term'] = accepted_cleaned['term'].str.strip()\n",
    "# remove the columns with only 1 value.\n",
    "accepted_cleaned = accepted_cleaned.drop(columns = ['out_prncp', 'pymnt_plan'])"
   ]
  },
  {
   "cell_type": "code",
   "execution_count": 2,
   "metadata": {},
   "outputs": [
    {
     "data": {
      "text/plain": [
       "0    1992069\n",
       "1     268599\n",
       "Name: loan_status, dtype: int64"
      ]
     },
     "execution_count": 2,
     "metadata": {},
     "output_type": "execute_result"
    }
   ],
   "source": [
    "accepted_cleaned.loan_status.value_counts()"
   ]
  },
  {
   "cell_type": "code",
   "execution_count": 3,
   "metadata": {},
   "outputs": [
    {
     "name": "stdout",
     "output_type": "stream",
     "text": [
      "<class 'pandas.core.frame.DataFrame'>\n",
      "RangeIndex: 2260668 entries, 0 to 2260667\n",
      "Data columns (total 72 columns):\n",
      " #   Column                      Dtype  \n",
      "---  ------                      -----  \n",
      " 0   loan_amnt                   float64\n",
      " 1   term                        object \n",
      " 2   int_rate                    float64\n",
      " 3   installment                 float64\n",
      " 4   grade                       object \n",
      " 5   emp_length                  object \n",
      " 6   home_ownership              object \n",
      " 7   annual_inc                  float64\n",
      " 8   verification_status         object \n",
      " 9   loan_status                 int64  \n",
      " 10  purpose                     object \n",
      " 11  title                       object \n",
      " 12  dti                         float64\n",
      " 13  delinq_2yrs                 float64\n",
      " 14  fico_range_low              float64\n",
      " 15  fico_range_high             float64\n",
      " 16  inq_last_6mths              float64\n",
      " 17  open_acc                    float64\n",
      " 18  pub_rec                     float64\n",
      " 19  revol_bal                   float64\n",
      " 20  revol_util                  float64\n",
      " 21  total_acc                   float64\n",
      " 22  initial_list_status         object \n",
      " 23  total_pymnt                 float64\n",
      " 24  total_pymnt_inv             float64\n",
      " 25  total_rec_prncp             float64\n",
      " 26  total_rec_int               float64\n",
      " 27  total_rec_late_fee          float64\n",
      " 28  recoveries                  float64\n",
      " 29  collection_recovery_fee     float64\n",
      " 30  last_pymnt_amnt             float64\n",
      " 31  last_fico_range_high        float64\n",
      " 32  last_fico_range_low         float64\n",
      " 33  collections_12_mths_ex_med  float64\n",
      " 34  application_type            object \n",
      " 35  acc_now_delinq              float64\n",
      " 36  tot_coll_amt                float64\n",
      " 37  tot_cur_bal                 float64\n",
      " 38  total_rev_hi_lim            float64\n",
      " 39  acc_open_past_24mths        float64\n",
      " 40  avg_cur_bal                 float64\n",
      " 41  bc_open_to_buy              float64\n",
      " 42  bc_util                     float64\n",
      " 43  chargeoff_within_12_mths    float64\n",
      " 44  delinq_amnt                 float64\n",
      " 45  mo_sin_old_il_acct          float64\n",
      " 46  mo_sin_old_rev_tl_op        float64\n",
      " 47  mo_sin_rcnt_rev_tl_op       float64\n",
      " 48  mo_sin_rcnt_tl              float64\n",
      " 49  mort_acc                    float64\n",
      " 50  mths_since_recent_bc        float64\n",
      " 51  mths_since_recent_inq       float64\n",
      " 52  num_accts_ever_120_pd       float64\n",
      " 53  num_actv_bc_tl              float64\n",
      " 54  num_actv_rev_tl             float64\n",
      " 55  num_bc_sats                 float64\n",
      " 56  num_bc_tl                   float64\n",
      " 57  num_il_tl                   float64\n",
      " 58  num_op_rev_tl               float64\n",
      " 59  num_rev_accts               float64\n",
      " 60  num_rev_tl_bal_gt_0         float64\n",
      " 61  num_sats                    float64\n",
      " 62  num_tl_120dpd_2m            float64\n",
      " 63  num_tl_30dpd                float64\n",
      " 64  num_tl_90g_dpd_24m          float64\n",
      " 65  num_tl_op_past_12m          float64\n",
      " 66  pct_tl_nvr_dlq              float64\n",
      " 67  percent_bc_gt_75            float64\n",
      " 68  pub_rec_bankruptcies        float64\n",
      " 69  tax_liens                   float64\n",
      " 70  total_bal_ex_mort           float64\n",
      " 71  total_bc_limit              float64\n",
      "dtypes: float64(62), int64(1), object(9)\n",
      "memory usage: 1.2+ GB\n"
     ]
    }
   ],
   "source": [
    "accepted_cleaned.info()"
   ]
  },
  {
   "cell_type": "code",
   "execution_count": 4,
   "metadata": {},
   "outputs": [],
   "source": [
    "df_features = pd.read_csv('selected_features.csv', index_col=0, \\\n",
    "    converters={\"selected\": lambda x: x.split(\", \")})"
   ]
  },
  {
   "cell_type": "code",
   "execution_count": 5,
   "metadata": {},
   "outputs": [
    {
     "data": {
      "text/html": [
       "<div>\n",
       "<style scoped>\n",
       "    .dataframe tbody tr th:only-of-type {\n",
       "        vertical-align: middle;\n",
       "    }\n",
       "\n",
       "    .dataframe tbody tr th {\n",
       "        vertical-align: top;\n",
       "    }\n",
       "\n",
       "    .dataframe thead th {\n",
       "        text-align: right;\n",
       "    }\n",
       "</style>\n",
       "<table border=\"1\" class=\"dataframe\">\n",
       "  <thead>\n",
       "    <tr style=\"text-align: right;\">\n",
       "      <th></th>\n",
       "      <th>method</th>\n",
       "      <th>selected</th>\n",
       "      <th>variation explained</th>\n",
       "    </tr>\n",
       "  </thead>\n",
       "  <tbody>\n",
       "    <tr>\n",
       "      <th>0</th>\n",
       "      <td>method 1 rf</td>\n",
       "      <td>[last_fico_range_low, last_fico_range_high, re...</td>\n",
       "      <td>0</td>\n",
       "    </tr>\n",
       "    <tr>\n",
       "      <th>1</th>\n",
       "      <td>method 1 lr</td>\n",
       "      <td>[recoveries, collection_recovery_fee, grade_F,...</td>\n",
       "      <td>0</td>\n",
       "    </tr>\n",
       "    <tr>\n",
       "      <th>2</th>\n",
       "      <td>method 1 xgb</td>\n",
       "      <td>[recoveries, last_fico_range_high, last_pymnt_...</td>\n",
       "      <td>0</td>\n",
       "    </tr>\n",
       "    <tr>\n",
       "      <th>3</th>\n",
       "      <td>method 1 tree</td>\n",
       "      <td>[last_fico_range_low, recoveries, last_pymnt_a...</td>\n",
       "      <td>0</td>\n",
       "    </tr>\n",
       "    <tr>\n",
       "      <th>4</th>\n",
       "      <td>method 1</td>\n",
       "      <td>[recoveries, last_fico_range_low, collection_r...</td>\n",
       "      <td>0</td>\n",
       "    </tr>\n",
       "    <tr>\n",
       "      <th>5</th>\n",
       "      <td>method 2 rf</td>\n",
       "      <td>[recoveries, last_fico_range_low, last_fico_ra...</td>\n",
       "      <td>dict_keys([90.09074033634192])</td>\n",
       "    </tr>\n",
       "    <tr>\n",
       "      <th>6</th>\n",
       "      <td>method 2 log</td>\n",
       "      <td>[recoveries, collection_recovery_fee, last_fic...</td>\n",
       "      <td>dict_keys(['none'])</td>\n",
       "    </tr>\n",
       "    <tr>\n",
       "      <th>7</th>\n",
       "      <td>method 2 xgb</td>\n",
       "      <td>[recoveries, last_fico_range_high, total_rec_p...</td>\n",
       "      <td>dict_keys(['none'])</td>\n",
       "    </tr>\n",
       "    <tr>\n",
       "      <th>8</th>\n",
       "      <td>method 2 tree</td>\n",
       "      <td>[last_fico_range_low, recoveries, total_rec_pr...</td>\n",
       "      <td>dict_keys([90.54166153150948])</td>\n",
       "    </tr>\n",
       "    <tr>\n",
       "      <th>9</th>\n",
       "      <td>method 3</td>\n",
       "      <td>[total_pymnt, total_rec_prncp, total_rec_int, ...</td>\n",
       "      <td>0</td>\n",
       "    </tr>\n",
       "    <tr>\n",
       "      <th>10</th>\n",
       "      <td>method 4 rf</td>\n",
       "      <td>[loan_amnt, int_rate, installment, total_rec_p...</td>\n",
       "      <td>0</td>\n",
       "    </tr>\n",
       "    <tr>\n",
       "      <th>11</th>\n",
       "      <td>method 4 xgb</td>\n",
       "      <td>[recoveries, last_fico_range_high]</td>\n",
       "      <td>0</td>\n",
       "    </tr>\n",
       "  </tbody>\n",
       "</table>\n",
       "</div>"
      ],
      "text/plain": [
       "           method                                           selected  \\\n",
       "0     method 1 rf  [last_fico_range_low, last_fico_range_high, re...   \n",
       "1     method 1 lr  [recoveries, collection_recovery_fee, grade_F,...   \n",
       "2    method 1 xgb  [recoveries, last_fico_range_high, last_pymnt_...   \n",
       "3   method 1 tree  [last_fico_range_low, recoveries, last_pymnt_a...   \n",
       "4        method 1  [recoveries, last_fico_range_low, collection_r...   \n",
       "5     method 2 rf  [recoveries, last_fico_range_low, last_fico_ra...   \n",
       "6    method 2 log  [recoveries, collection_recovery_fee, last_fic...   \n",
       "7    method 2 xgb  [recoveries, last_fico_range_high, total_rec_p...   \n",
       "8   method 2 tree  [last_fico_range_low, recoveries, total_rec_pr...   \n",
       "9        method 3  [total_pymnt, total_rec_prncp, total_rec_int, ...   \n",
       "10    method 4 rf  [loan_amnt, int_rate, installment, total_rec_p...   \n",
       "11   method 4 xgb                 [recoveries, last_fico_range_high]   \n",
       "\n",
       "               variation explained  \n",
       "0                                0  \n",
       "1                                0  \n",
       "2                                0  \n",
       "3                                0  \n",
       "4                                0  \n",
       "5   dict_keys([90.09074033634192])  \n",
       "6              dict_keys(['none'])  \n",
       "7              dict_keys(['none'])  \n",
       "8   dict_keys([90.54166153150948])  \n",
       "9                                0  \n",
       "10                               0  \n",
       "11                               0  "
      ]
     },
     "execution_count": 5,
     "metadata": {},
     "output_type": "execute_result"
    }
   ],
   "source": [
    "df_features"
   ]
  },
  {
   "cell_type": "code",
   "execution_count": 6,
   "metadata": {},
   "outputs": [
    {
     "data": {
      "text/plain": [
       "['recoveries',\n",
       " 'last_fico_range_low',\n",
       " 'collection_recovery_fee',\n",
       " 'last_fico_range_high',\n",
       " 'grade_F',\n",
       " 'grade_G',\n",
       " 'grade_E',\n",
       " 'last_pymnt_amnt',\n",
       " 'installment']"
      ]
     },
     "execution_count": 6,
     "metadata": {},
     "output_type": "execute_result"
    }
   ],
   "source": [
    "# use the feature from one method\n",
    "selected_features = df_features.loc[df_features['method']=='method 1','selected'].tolist()[0]\n",
    "selected_features"
   ]
  },
  {
   "cell_type": "markdown",
   "metadata": {},
   "source": [
    "### resplit data"
   ]
  },
  {
   "cell_type": "code",
   "execution_count": 7,
   "metadata": {},
   "outputs": [],
   "source": [
    "# split to train and test\n",
    "X_train, X_test, y_train, y_test = train_test_split(\n",
    "    accepted_cleaned.drop(columns='loan_status'), accepted_cleaned['loan_status'], test_size=0.1, random_state=102)"
   ]
  },
  {
   "cell_type": "code",
   "execution_count": 8,
   "metadata": {},
   "outputs": [],
   "source": [
    "# select numerical and categorical values\n",
    "X_num_cols = X_train.select_dtypes(include='number').columns.tolist()\n",
    "X_cat_cols = X_train.select_dtypes(include='O').columns.tolist()\n",
    "X_test_num_cols = X_test.select_dtypes(include='number').columns.tolist()\n",
    "X_test_cat_cols = X_test.select_dtypes(include='O').columns.tolist()"
   ]
  },
  {
   "cell_type": "code",
   "execution_count": 9,
   "metadata": {},
   "outputs": [],
   "source": [
    "# Normalization and onehot encode.\n",
    "SD = StandardScaler()\n",
    "OE = OneHotEncoder(drop='first')\n",
    "X_num = SD.fit_transform(X_train[X_num_cols])\n",
    "X_cat = OE.fit_transform(X_train[X_cat_cols])\n",
    "X_cat = X_cat.toarray()\n",
    "\n",
    "X_test_num = SD.transform(X_test[X_test_num_cols])\n",
    "X_test_cat = OE.transform(X_test[X_test_cat_cols])\n",
    "X_test_cat = X_test_cat.toarray()"
   ]
  },
  {
   "cell_type": "code",
   "execution_count": 10,
   "metadata": {},
   "outputs": [],
   "source": [
    "# combine feature names and matrix names\n",
    "feature_names = np.concatenate((SD.get_feature_names_out(), OE.get_feature_names_out()))\n",
    "X_train = pd.DataFrame(np.concatenate((X_num, X_cat), axis = 1), columns=feature_names)\n",
    "X_test = pd.DataFrame(np.concatenate((X_test_num, X_test_cat), axis = 1), columns=feature_names)"
   ]
  },
  {
   "cell_type": "code",
   "execution_count": 11,
   "metadata": {},
   "outputs": [],
   "source": [
    "del accepted_cleaned"
   ]
  },
  {
   "cell_type": "markdown",
   "metadata": {},
   "source": [
    "### Train"
   ]
  },
  {
   "cell_type": "code",
   "execution_count": 12,
   "metadata": {},
   "outputs": [
    {
     "data": {
      "text/html": [
       "<div>\n",
       "<style scoped>\n",
       "    .dataframe tbody tr th:only-of-type {\n",
       "        vertical-align: middle;\n",
       "    }\n",
       "\n",
       "    .dataframe tbody tr th {\n",
       "        vertical-align: top;\n",
       "    }\n",
       "\n",
       "    .dataframe thead th {\n",
       "        text-align: right;\n",
       "    }\n",
       "</style>\n",
       "<table border=\"1\" class=\"dataframe\">\n",
       "  <thead>\n",
       "    <tr style=\"text-align: right;\">\n",
       "      <th></th>\n",
       "      <th>method</th>\n",
       "      <th>selected</th>\n",
       "      <th>variation explained</th>\n",
       "    </tr>\n",
       "  </thead>\n",
       "  <tbody>\n",
       "    <tr>\n",
       "      <th>0</th>\n",
       "      <td>method 1 rf</td>\n",
       "      <td>[last_fico_range_low, last_fico_range_high, re...</td>\n",
       "      <td>0</td>\n",
       "    </tr>\n",
       "    <tr>\n",
       "      <th>1</th>\n",
       "      <td>method 1 lr</td>\n",
       "      <td>[recoveries, collection_recovery_fee, grade_F,...</td>\n",
       "      <td>0</td>\n",
       "    </tr>\n",
       "    <tr>\n",
       "      <th>2</th>\n",
       "      <td>method 1 xgb</td>\n",
       "      <td>[recoveries, last_fico_range_high, last_pymnt_...</td>\n",
       "      <td>0</td>\n",
       "    </tr>\n",
       "    <tr>\n",
       "      <th>3</th>\n",
       "      <td>method 1 tree</td>\n",
       "      <td>[last_fico_range_low, recoveries, last_pymnt_a...</td>\n",
       "      <td>0</td>\n",
       "    </tr>\n",
       "    <tr>\n",
       "      <th>4</th>\n",
       "      <td>method 1</td>\n",
       "      <td>[recoveries, last_fico_range_low, collection_r...</td>\n",
       "      <td>0</td>\n",
       "    </tr>\n",
       "    <tr>\n",
       "      <th>5</th>\n",
       "      <td>method 2 rf</td>\n",
       "      <td>[recoveries, last_fico_range_low, last_fico_ra...</td>\n",
       "      <td>dict_keys([90.09074033634192])</td>\n",
       "    </tr>\n",
       "    <tr>\n",
       "      <th>6</th>\n",
       "      <td>method 2 log</td>\n",
       "      <td>[recoveries, collection_recovery_fee, last_fic...</td>\n",
       "      <td>dict_keys(['none'])</td>\n",
       "    </tr>\n",
       "    <tr>\n",
       "      <th>7</th>\n",
       "      <td>method 2 xgb</td>\n",
       "      <td>[recoveries, last_fico_range_high, total_rec_p...</td>\n",
       "      <td>dict_keys(['none'])</td>\n",
       "    </tr>\n",
       "    <tr>\n",
       "      <th>8</th>\n",
       "      <td>method 2 tree</td>\n",
       "      <td>[last_fico_range_low, recoveries, total_rec_pr...</td>\n",
       "      <td>dict_keys([90.54166153150948])</td>\n",
       "    </tr>\n",
       "    <tr>\n",
       "      <th>9</th>\n",
       "      <td>method 3</td>\n",
       "      <td>[total_pymnt, total_rec_prncp, total_rec_int, ...</td>\n",
       "      <td>0</td>\n",
       "    </tr>\n",
       "    <tr>\n",
       "      <th>10</th>\n",
       "      <td>method 4 rf</td>\n",
       "      <td>[loan_amnt, int_rate, installment, total_rec_p...</td>\n",
       "      <td>0</td>\n",
       "    </tr>\n",
       "    <tr>\n",
       "      <th>11</th>\n",
       "      <td>method 4 xgb</td>\n",
       "      <td>[recoveries, last_fico_range_high]</td>\n",
       "      <td>0</td>\n",
       "    </tr>\n",
       "  </tbody>\n",
       "</table>\n",
       "</div>"
      ],
      "text/plain": [
       "           method                                           selected  \\\n",
       "0     method 1 rf  [last_fico_range_low, last_fico_range_high, re...   \n",
       "1     method 1 lr  [recoveries, collection_recovery_fee, grade_F,...   \n",
       "2    method 1 xgb  [recoveries, last_fico_range_high, last_pymnt_...   \n",
       "3   method 1 tree  [last_fico_range_low, recoveries, last_pymnt_a...   \n",
       "4        method 1  [recoveries, last_fico_range_low, collection_r...   \n",
       "5     method 2 rf  [recoveries, last_fico_range_low, last_fico_ra...   \n",
       "6    method 2 log  [recoveries, collection_recovery_fee, last_fic...   \n",
       "7    method 2 xgb  [recoveries, last_fico_range_high, total_rec_p...   \n",
       "8   method 2 tree  [last_fico_range_low, recoveries, total_rec_pr...   \n",
       "9        method 3  [total_pymnt, total_rec_prncp, total_rec_int, ...   \n",
       "10    method 4 rf  [loan_amnt, int_rate, installment, total_rec_p...   \n",
       "11   method 4 xgb                 [recoveries, last_fico_range_high]   \n",
       "\n",
       "               variation explained  \n",
       "0                                0  \n",
       "1                                0  \n",
       "2                                0  \n",
       "3                                0  \n",
       "4                                0  \n",
       "5   dict_keys([90.09074033634192])  \n",
       "6              dict_keys(['none'])  \n",
       "7              dict_keys(['none'])  \n",
       "8   dict_keys([90.54166153150948])  \n",
       "9                                0  \n",
       "10                               0  \n",
       "11                               0  "
      ]
     },
     "execution_count": 12,
     "metadata": {},
     "output_type": "execute_result"
    }
   ],
   "source": [
    "df_features"
   ]
  },
  {
   "cell_type": "markdown",
   "metadata": {},
   "source": [
    "#### Random Forest"
   ]
  },
  {
   "cell_type": "code",
   "execution_count": 14,
   "metadata": {},
   "outputs": [
    {
     "name": "stdout",
     "output_type": "stream",
     "text": [
      "(2034601, 9) (2034601,) (226067, 9) (226067,)\n",
      "['recoveries', 'last_fico_range_low', 'collection_recovery_fee', 'last_fico_range_high', 'grade_F', 'grade_G', 'grade_E', 'last_pymnt_amnt', 'installment']\n"
     ]
    }
   ],
   "source": [
    "# select features for training\n",
    "rf_selected_features = df_features.loc[df_features['method']=='method 1','selected'].tolist()[0]\n",
    "rf_X_train = X_train[rf_selected_features]\n",
    "rf_X_test = X_test[rf_selected_features]\n",
    "print(rf_X_train.shape,y_train.shape, rf_X_test.shape, y_test.shape)\n",
    "print(rf_selected_features)"
   ]
  },
  {
   "cell_type": "code",
   "execution_count": 17,
   "metadata": {},
   "outputs": [
    {
     "name": "stdout",
     "output_type": "stream",
     "text": [
      "(483704, 9) (483704,)\n"
     ]
    }
   ],
   "source": [
    "# undersampling\n",
    "us = RandomUnderSampler(random_state=42)\n",
    "rf_X_train_us, rf_y_train_us = us.fit_resample(rf_X_train, y_train)\n",
    "print(rf_X_train_us.shape, rf_y_train_us.shape)"
   ]
  },
  {
   "cell_type": "code",
   "execution_count": 18,
   "metadata": {},
   "outputs": [
    {
     "data": {
      "text/plain": [
       "GridSearchCV(cv=5, estimator=RandomForestClassifier(random_state=42),\n",
       "             param_grid={})"
      ]
     },
     "execution_count": 18,
     "metadata": {},
     "output_type": "execute_result"
    }
   ],
   "source": [
    "# Random forest feature importance\n",
    "RF = RandomForestClassifier(random_state=42)\n",
    "RF_params = {}\n",
    "RF_cv =  GridSearchCV(RF, param_grid=RF_params ,cv=5)\n",
    "RF_cv.fit(rf_X_train_us, rf_y_train_us)"
   ]
  },
  {
   "cell_type": "markdown",
   "metadata": {},
   "source": [
    "#### Logistic Regression"
   ]
  },
  {
   "cell_type": "code",
   "execution_count": 19,
   "metadata": {},
   "outputs": [
    {
     "name": "stdout",
     "output_type": "stream",
     "text": [
      "(2034601, 9) (2034601,) (226067, 9) (226067,)\n",
      "['recoveries', 'last_fico_range_low', 'collection_recovery_fee', 'last_fico_range_high', 'grade_F', 'grade_G', 'grade_E', 'last_pymnt_amnt', 'installment']\n"
     ]
    }
   ],
   "source": [
    "# select features for training\n",
    "log_selected_features = df_features.loc[df_features['method']=='method 1','selected'].tolist()[0]\n",
    "log_X_train = X_train[log_selected_features]\n",
    "log_X_test = X_test[log_selected_features]\n",
    "print(log_X_train.shape,y_train.shape, log_X_test.shape, y_test.shape)\n",
    "print(log_selected_features)"
   ]
  },
  {
   "cell_type": "code",
   "execution_count": 20,
   "metadata": {},
   "outputs": [
    {
     "name": "stdout",
     "output_type": "stream",
     "text": [
      "(483704, 9) (483704,)\n"
     ]
    }
   ],
   "source": [
    "# undersampling\n",
    "us = RandomUnderSampler(random_state=42)\n",
    "log_X_train_us, log_y_train_us = us.fit_resample(log_X_train, y_train)\n",
    "print(log_X_train_us.shape, log_y_train_us.shape)"
   ]
  },
  {
   "cell_type": "code",
   "execution_count": 21,
   "metadata": {},
   "outputs": [
    {
     "name": "stderr",
     "output_type": "stream",
     "text": [
      "/opt/anaconda3/lib/python3.8/site-packages/sklearn/linear_model/_logistic.py:814: ConvergenceWarning: lbfgs failed to converge (status=1):\n",
      "STOP: TOTAL NO. of ITERATIONS REACHED LIMIT.\n",
      "\n",
      "Increase the number of iterations (max_iter) or scale the data as shown in:\n",
      "    https://scikit-learn.org/stable/modules/preprocessing.html\n",
      "Please also refer to the documentation for alternative solver options:\n",
      "    https://scikit-learn.org/stable/modules/linear_model.html#logistic-regression\n",
      "  n_iter_i = _check_optimize_result(\n"
     ]
    }
   ],
   "source": [
    "# Logistic Regression coefficient (not suitable for data with multilinearity)\n",
    "LR = LogisticRegression(random_state=42)\n",
    "LR_params = {}\n",
    "LR_cv = GridSearchCV(LR, param_grid=LR_params, cv=5)\n",
    "LR_cv.fit(log_X_train_us, log_y_train_us)\n",
    "del log_X_train_us\n",
    "del log_y_train_us"
   ]
  },
  {
   "cell_type": "markdown",
   "metadata": {},
   "source": [
    "#### XGB"
   ]
  },
  {
   "cell_type": "code",
   "execution_count": 22,
   "metadata": {},
   "outputs": [
    {
     "name": "stdout",
     "output_type": "stream",
     "text": [
      "(2034601, 9) (2034601,) (226067, 9) (226067,)\n",
      "['recoveries', 'last_fico_range_low', 'collection_recovery_fee', 'last_fico_range_high', 'grade_F', 'grade_G', 'grade_E', 'last_pymnt_amnt', 'installment']\n"
     ]
    }
   ],
   "source": [
    "# select features for training\n",
    "xgb_selected_features = df_features.loc[df_features['method']=='method 1','selected'].tolist()[0]\n",
    "xgb_X_train = X_train[xgb_selected_features]\n",
    "xgb_X_test = X_test[xgb_selected_features]\n",
    "print(xgb_X_train.shape,y_train.shape, xgb_X_test.shape, y_test.shape)\n",
    "print(xgb_selected_features)"
   ]
  },
  {
   "cell_type": "code",
   "execution_count": 23,
   "metadata": {},
   "outputs": [
    {
     "name": "stdout",
     "output_type": "stream",
     "text": [
      "(483704, 9) (483704,)\n"
     ]
    }
   ],
   "source": [
    "# undersampling\n",
    "us = RandomUnderSampler(random_state=42)\n",
    "xgb_X_train_us, xgb_y_train_us = us.fit_resample(xgb_X_train, y_train)\n",
    "print(xgb_X_train_us.shape, xgb_y_train_us.shape)"
   ]
  },
  {
   "cell_type": "code",
   "execution_count": 24,
   "metadata": {},
   "outputs": [
    {
     "name": "stderr",
     "output_type": "stream",
     "text": [
      "/opt/anaconda3/lib/python3.8/site-packages/xgboost/data.py:250: FutureWarning: pandas.Int64Index is deprecated and will be removed from pandas in a future version. Use pandas.Index with the appropriate dtype instead.\n",
      "  elif isinstance(data.columns, (pd.Int64Index, pd.RangeIndex)):\n"
     ]
    },
    {
     "name": "stdout",
     "output_type": "stream",
     "text": [
      "[14:47:15] WARNING: ../src/learner.cc:1115: Starting in XGBoost 1.3.0, the default evaluation metric used with the objective 'binary:logistic' was changed from 'error' to 'logloss'. Explicitly set eval_metric if you'd like to restore the old behavior.\n"
     ]
    },
    {
     "name": "stderr",
     "output_type": "stream",
     "text": [
      "/opt/anaconda3/lib/python3.8/site-packages/xgboost/data.py:250: FutureWarning: pandas.Int64Index is deprecated and will be removed from pandas in a future version. Use pandas.Index with the appropriate dtype instead.\n",
      "  elif isinstance(data.columns, (pd.Int64Index, pd.RangeIndex)):\n"
     ]
    },
    {
     "name": "stdout",
     "output_type": "stream",
     "text": [
      "[14:47:29] WARNING: ../src/learner.cc:1115: Starting in XGBoost 1.3.0, the default evaluation metric used with the objective 'binary:logistic' was changed from 'error' to 'logloss'. Explicitly set eval_metric if you'd like to restore the old behavior.\n"
     ]
    },
    {
     "name": "stderr",
     "output_type": "stream",
     "text": [
      "/opt/anaconda3/lib/python3.8/site-packages/xgboost/data.py:250: FutureWarning: pandas.Int64Index is deprecated and will be removed from pandas in a future version. Use pandas.Index with the appropriate dtype instead.\n",
      "  elif isinstance(data.columns, (pd.Int64Index, pd.RangeIndex)):\n"
     ]
    },
    {
     "name": "stdout",
     "output_type": "stream",
     "text": [
      "[14:47:42] WARNING: ../src/learner.cc:1115: Starting in XGBoost 1.3.0, the default evaluation metric used with the objective 'binary:logistic' was changed from 'error' to 'logloss'. Explicitly set eval_metric if you'd like to restore the old behavior.\n"
     ]
    },
    {
     "name": "stderr",
     "output_type": "stream",
     "text": [
      "/opt/anaconda3/lib/python3.8/site-packages/xgboost/data.py:250: FutureWarning: pandas.Int64Index is deprecated and will be removed from pandas in a future version. Use pandas.Index with the appropriate dtype instead.\n",
      "  elif isinstance(data.columns, (pd.Int64Index, pd.RangeIndex)):\n"
     ]
    },
    {
     "name": "stdout",
     "output_type": "stream",
     "text": [
      "[14:47:57] WARNING: ../src/learner.cc:1115: Starting in XGBoost 1.3.0, the default evaluation metric used with the objective 'binary:logistic' was changed from 'error' to 'logloss'. Explicitly set eval_metric if you'd like to restore the old behavior.\n"
     ]
    },
    {
     "name": "stderr",
     "output_type": "stream",
     "text": [
      "/opt/anaconda3/lib/python3.8/site-packages/xgboost/data.py:250: FutureWarning: pandas.Int64Index is deprecated and will be removed from pandas in a future version. Use pandas.Index with the appropriate dtype instead.\n",
      "  elif isinstance(data.columns, (pd.Int64Index, pd.RangeIndex)):\n"
     ]
    },
    {
     "name": "stdout",
     "output_type": "stream",
     "text": [
      "[14:48:11] WARNING: ../src/learner.cc:1115: Starting in XGBoost 1.3.0, the default evaluation metric used with the objective 'binary:logistic' was changed from 'error' to 'logloss'. Explicitly set eval_metric if you'd like to restore the old behavior.\n"
     ]
    },
    {
     "name": "stderr",
     "output_type": "stream",
     "text": [
      "/opt/anaconda3/lib/python3.8/site-packages/xgboost/data.py:250: FutureWarning: pandas.Int64Index is deprecated and will be removed from pandas in a future version. Use pandas.Index with the appropriate dtype instead.\n",
      "  elif isinstance(data.columns, (pd.Int64Index, pd.RangeIndex)):\n"
     ]
    },
    {
     "name": "stdout",
     "output_type": "stream",
     "text": [
      "[14:48:24] WARNING: ../src/learner.cc:1115: Starting in XGBoost 1.3.0, the default evaluation metric used with the objective 'binary:logistic' was changed from 'error' to 'logloss'. Explicitly set eval_metric if you'd like to restore the old behavior.\n"
     ]
    },
    {
     "data": {
      "text/plain": [
       "GridSearchCV(cv=5,\n",
       "             estimator=XGBClassifier(base_score=None, booster=None,\n",
       "                                     colsample_bylevel=None,\n",
       "                                     colsample_bynode=None,\n",
       "                                     colsample_bytree=None,\n",
       "                                     enable_categorical=False, gamma=None,\n",
       "                                     gpu_id=None, importance_type=None,\n",
       "                                     interaction_constraints=None,\n",
       "                                     learning_rate=None, max_delta_step=None,\n",
       "                                     max_depth=None, min_child_weight=None,\n",
       "                                     missing=nan, monotone_constraints=None,\n",
       "                                     n_estimators=100, n_jobs=None,\n",
       "                                     num_parallel_tree=None, predictor=None,\n",
       "                                     random_state=None, reg_alpha=None,\n",
       "                                     reg_lambda=None, scale_pos_weight=None,\n",
       "                                     seed=42, subsample=None, tree_method=None,\n",
       "                                     use_label_encoder=False,\n",
       "                                     validate_parameters=None, verbosity=None),\n",
       "             param_grid={})"
      ]
     },
     "execution_count": 24,
     "metadata": {},
     "output_type": "execute_result"
    }
   ],
   "source": [
    "# XGboost\n",
    "XGboost = XGBClassifier(use_label_encoder=False, seed=42)\n",
    "XG_params = {}\n",
    "XGboost_cv = GridSearchCV(XGboost, param_grid=XG_params ,cv=5)\n",
    "XGboost_cv.fit(xgb_X_train_us, xgb_y_train_us)"
   ]
  },
  {
   "cell_type": "markdown",
   "metadata": {},
   "source": [
    "#### NN"
   ]
  },
  {
   "cell_type": "code",
   "execution_count": 35,
   "metadata": {},
   "outputs": [
    {
     "name": "stdout",
     "output_type": "stream",
     "text": [
      "(2034601, 9) (2034601,) (226067, 9) (226067,)\n",
      "['recoveries', 'last_fico_range_low', 'collection_recovery_fee', 'last_fico_range_high', 'grade_F', 'grade_G', 'grade_E', 'last_pymnt_amnt', 'installment']\n"
     ]
    }
   ],
   "source": [
    "# select features for training\n",
    "NN_selected_features = df_features.loc[df_features['method']=='method 1','selected'].tolist()[0]\n",
    "NN_X_train = X_train[NN_selected_features]\n",
    "NN_X_test = X_test[NN_selected_features]\n",
    "print(NN_X_train.shape,y_train.shape, NN_X_test.shape, y_test.shape)\n",
    "print(NN_selected_features)"
   ]
  },
  {
   "cell_type": "code",
   "execution_count": 36,
   "metadata": {},
   "outputs": [
    {
     "name": "stdout",
     "output_type": "stream",
     "text": [
      "(483704, 9) (483704,)\n"
     ]
    }
   ],
   "source": [
    "# undersampling\n",
    "us = RandomUnderSampler(random_state=42)\n",
    "NN_X_train_us, NN_y_train_us = us.fit_resample(NN_X_train, y_train)\n",
    "print(NN_X_train_us.shape, NN_y_train_us.shape)"
   ]
  },
  {
   "cell_type": "code",
   "execution_count": 37,
   "metadata": {},
   "outputs": [
    {
     "name": "stdout",
     "output_type": "stream",
     "text": [
      "(483704, 9) (483704, 2) (226067, 9) (226067, 2)\n"
     ]
    }
   ],
   "source": [
    "# NN\n",
    "NN_y_train_us = to_categorical(NN_y_train_us)\n",
    "NN_y_test = to_categorical(y_test)\n",
    "print(NN_X_train_us.shape, NN_y_train_us.shape, NN_X_test.shape, NN_y_test.shape)"
   ]
  },
  {
   "cell_type": "code",
   "execution_count": 38,
   "metadata": {},
   "outputs": [],
   "source": [
    "#Dense layers only\n",
    "model=Sequential()\n",
    "model.add(Dense(12,input_dim=9,activation='relu'))\n",
    "model.add(Dense(8,activation='relu'))\n",
    "model.add(Dense(2,activation='softmax')) # output the results into two categories and l\n",
    "model.compile(loss='binary_crossentropy',optimizer='adam',metrics=['acc']) #optimizer: help to minimize the loss because it is a classificati\n",
    "\n",
    "# fit model\n",
    "history = model.fit(NN_X_train_us, NN_y_train_us, validation_data=(NN_X_test, NN_y_test), epochs=30, verbose=0)"
   ]
  },
  {
   "cell_type": "markdown",
   "metadata": {},
   "source": [
    "#### Performance Comparison"
   ]
  },
  {
   "cell_type": "code",
   "execution_count": 39,
   "metadata": {},
   "outputs": [],
   "source": [
    "def performance(model, X_test, y_test):\n",
    "    '''take model and test data, output classification report and confusion matrix'''\n",
    "    # precision: true charged off / Predict charged off\n",
    "    # recall: true charged off / Real charged off people\n",
    "    y_pred = model.predict(X_test)\n",
    "    y_prob = model.predict_proba(X_test)\n",
    "    # classification report\n",
    "    print(classification_report(y_pred=y_pred, y_true = y_test))\n",
    "    # print train error\n",
    "    print(confusion_matrix(y_pred=y_pred, y_true = y_test))\n",
    "    # ROC, AUC\n",
    "    fpr, tpr, thres = roc_curve([int(i) for i in y_test],  y_prob[:,1])\n",
    "    auc = roc_auc_score([int(i) for i in y_test], y_prob[:,1])\n",
    "    sns.scatterplot(fpr,tpr)\n",
    "    plt.title(round(auc,4))"
   ]
  },
  {
   "cell_type": "code",
   "execution_count": 40,
   "metadata": {},
   "outputs": [
    {
     "name": "stdout",
     "output_type": "stream",
     "text": [
      "              precision    recall  f1-score   support\n",
      "\n",
      "           0       0.99      0.94      0.96    199320\n",
      "           1       0.66      0.93      0.77     26747\n",
      "\n",
      "    accuracy                           0.94    226067\n",
      "   macro avg       0.83      0.93      0.87    226067\n",
      "weighted avg       0.95      0.94      0.94    226067\n",
      "\n",
      "[[186580  12740]\n",
      " [  1830  24917]]\n"
     ]
    },
    {
     "name": "stderr",
     "output_type": "stream",
     "text": [
      "/opt/anaconda3/lib/python3.8/site-packages/seaborn/_decorators.py:36: FutureWarning: Pass the following variables as keyword args: x, y. From version 0.12, the only valid positional argument will be `data`, and passing other arguments without an explicit keyword will result in an error or misinterpretation.\n",
      "  warnings.warn(\n"
     ]
    },
    {
     "data": {
      "image/png": "[encoded data removed]",
      "text/plain": [
       "<Figure size 432x288 with 1 Axes>"
      ]
     },
     "metadata": {
      "needs_background": "light"
     },
     "output_type": "display_data"
    }
   ],
   "source": [
    "performance(RF_cv, rf_X_test, y_test)"
   ]
  },
  {
   "cell_type": "code",
   "execution_count": 41,
   "metadata": {},
   "outputs": [
    {
     "name": "stdout",
     "output_type": "stream",
     "text": [
      "              precision    recall  f1-score   support\n",
      "\n",
      "           0       0.99      0.95      0.97    199320\n",
      "           1       0.71      0.92      0.80     26747\n",
      "\n",
      "    accuracy                           0.95    226067\n",
      "   macro avg       0.85      0.94      0.89    226067\n",
      "weighted avg       0.96      0.95      0.95    226067\n",
      "\n",
      "[[189155  10165]\n",
      " [  2017  24730]]\n"
     ]
    },
    {
     "name": "stderr",
     "output_type": "stream",
     "text": [
      "/opt/anaconda3/lib/python3.8/site-packages/seaborn/_decorators.py:36: FutureWarning: Pass the following variables as keyword args: x, y. From version 0.12, the only valid positional argument will be `data`, and passing other arguments without an explicit keyword will result in an error or misinterpretation.\n",
      "  warnings.warn(\n"
     ]
    },
    {
     "data": {
      "image/png": "[encoded data removed]",
      "text/plain": [
       "<Figure size 432x288 with 1 Axes>"
      ]
     },
     "metadata": {
      "needs_background": "light"
     },
     "output_type": "display_data"
    }
   ],
   "source": [
    "performance(LR_cv, log_X_test, y_test)"
   ]
  },
  {
   "cell_type": "code",
   "execution_count": 42,
   "metadata": {},
   "outputs": [
    {
     "name": "stdout",
     "output_type": "stream",
     "text": [
      "              precision    recall  f1-score   support\n",
      "\n",
      "           0       0.99      0.95      0.97    199320\n",
      "           1       0.72      0.95      0.82     26747\n",
      "\n",
      "    accuracy                           0.95    226067\n",
      "   macro avg       0.86      0.95      0.90    226067\n",
      "weighted avg       0.96      0.95      0.95    226067\n",
      "\n",
      "[[189542   9778]\n",
      " [  1371  25376]]\n"
     ]
    },
    {
     "name": "stderr",
     "output_type": "stream",
     "text": [
      "/opt/anaconda3/lib/python3.8/site-packages/seaborn/_decorators.py:36: FutureWarning: Pass the following variables as keyword args: x, y. From version 0.12, the only valid positional argument will be `data`, and passing other arguments without an explicit keyword will result in an error or misinterpretation.\n",
      "  warnings.warn(\n"
     ]
    },
    {
     "data": {
      "image/png": "[encoded data removed]",
      "text/plain": [
       "<Figure size 432x288 with 1 Axes>"
      ]
     },
     "metadata": {
      "needs_background": "light"
     },
     "output_type": "display_data"
    }
   ],
   "source": [
    "performance(XGboost_cv, xgb_X_test, y_test)"
   ]
  },
  {
   "cell_type": "code",
   "execution_count": 43,
   "metadata": {},
   "outputs": [
    {
     "data": {
      "image/png": "[encoded data removed]",
      "text/plain": [
       "<Figure size 432x288 with 2 Axes>"
      ]
     },
     "metadata": {
      "needs_background": "light"
     },
     "output_type": "display_data"
    }
   ],
   "source": [
    "# evaluate the NN model\n",
    "_, train_acc = model.evaluate(NN_X_train_us, NN_y_train_us, verbose=0)\n",
    "_, test_acc = model.evaluate(NN_X_test, NN_y_test, verbose=0)\n",
    "\n",
    "# plot loss during training\n",
    "plt.subplot(211)\n",
    "plt.title('Loss')\n",
    "plt.plot(history.history['loss'], label='train')\n",
    "plt.plot(history.history['val_loss'], label='test')\n",
    "plt.legend()\n",
    "# plot accuracy during training\n",
    "plt.subplot(212)\n",
    "plt.title('Accuracy')\n",
    "plt.plot(history.history['acc'], label='train')\n",
    "plt.plot(history.history['val_acc'], label='test')\n",
    "plt.legend()\n",
    "plt.show()"
   ]
  },
  {
   "cell_type": "code",
   "execution_count": 44,
   "metadata": {},
   "outputs": [
    {
     "name": "stdout",
     "output_type": "stream",
     "text": [
      "              precision    recall  f1-score   support\n",
      "\n",
      "           0       0.99      0.95      0.97    199320\n",
      "           1       0.73      0.93      0.81     26747\n",
      "\n",
      "    accuracy                           0.95    226067\n",
      "   macro avg       0.86      0.94      0.89    226067\n",
      "weighted avg       0.96      0.95      0.95    226067\n",
      "\n"
     ]
    }
   ],
   "source": [
    "# Prediction accuracy\n",
    "y_prob = model.predict(NN_X_test)\n",
    "y_pred = np.argmax(y_prob, axis = 1)\n",
    "np.unique(y_pred, return_counts = True)\n",
    "print(classification_report(y_pred=y_pred, y_true= y_test))"
   ]
  }
 ],
 "metadata": {
  "interpreter": {
   "hash": "40d3a090f54c6569ab1632332b64b2c03c39dcf918b08424e98f38b5ae0af88f"
  },
  "kernelspec": {
   "display_name": "Python 3 (ipykernel)",
   "language": "python",
   "name": "python3"
  },
  "language_info": {
   "codemirror_mode": {
    "name": "ipython",
    "version": 3
   },
   "file_extension": ".py",
   "mimetype": "text/x-python",
   "name": "python",
   "nbconvert_exporter": "python",
   "pygments_lexer": "ipython3",
   "version": "3.8.8"
  }
 },
 "nbformat": 4,
 "nbformat_minor": 2
}
