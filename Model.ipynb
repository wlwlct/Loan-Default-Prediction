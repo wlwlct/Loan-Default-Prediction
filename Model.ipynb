{
 "cells": [
  {
   "cell_type": "code",
   "execution_count": 1,
   "metadata": {},
   "outputs": [],
   "source": [
    "import pandas as pd\n",
    "import numpy as np\n",
    "import seaborn as sns\n",
    "import plotly.express as px\n",
    "import matplotlib.pyplot as plt\n",
    "from imblearn.under_sampling import RandomUnderSampler\n",
    "\n",
    "# import package for model building\n",
    "from sklearn.model_selection import train_test_split\n",
    "from imblearn.under_sampling import RandomUnderSampler\n",
    "from sklearn.preprocessing import MinMaxScaler, StandardScaler, OneHotEncoder\n",
    "from sklearn.ensemble import RandomForestClassifier\n",
    "from sklearn.linear_model import LogisticRegression\n",
    "from sklearn.tree import DecisionTreeClassifier\n",
    "from xgboost import XGBClassifier\n",
    "\n",
    "\n",
    "from sklearn.metrics import classification_report, confusion_matrix, roc_auc_score, roc_curve, recall_score\n",
    "from sklearn.model_selection import GridSearchCV, RandomizedSearchCV\n",
    "\n",
    "from tensorflow import keras\n",
    "from keras.models import Sequential\n",
    "from keras.layers import Dense\n",
    "from keras.models import load_model\n",
    "from keras.utils.np_utils import to_categorical"
   ]
  },
  {
   "cell_type": "markdown",
   "metadata": {},
   "source": [
    "### import data and selected features"
   ]
  },
  {
   "cell_type": "code",
   "execution_count": 2,
   "metadata": {},
   "outputs": [
    {
     "data": {
      "text/html": [
       "<div>\n",
       "<style scoped>\n",
       "    .dataframe tbody tr th:only-of-type {\n",
       "        vertical-align: middle;\n",
       "    }\n",
       "\n",
       "    .dataframe tbody tr th {\n",
       "        vertical-align: top;\n",
       "    }\n",
       "\n",
       "    .dataframe thead th {\n",
       "        text-align: right;\n",
       "    }\n",
       "</style>\n",
       "<table border=\"1\" class=\"dataframe\">\n",
       "  <thead>\n",
       "    <tr style=\"text-align: right;\">\n",
       "      <th></th>\n",
       "      <th>loan_amnt</th>\n",
       "      <th>term</th>\n",
       "      <th>int_rate</th>\n",
       "      <th>installment</th>\n",
       "      <th>grade</th>\n",
       "      <th>emp_length</th>\n",
       "      <th>home_ownership</th>\n",
       "      <th>annual_inc</th>\n",
       "      <th>verification_status</th>\n",
       "      <th>pymnt_plan</th>\n",
       "      <th>...</th>\n",
       "      <th>num_tl_30dpd</th>\n",
       "      <th>num_tl_90g_dpd_24m</th>\n",
       "      <th>num_tl_op_past_12m</th>\n",
       "      <th>pct_tl_nvr_dlq</th>\n",
       "      <th>percent_bc_gt_75</th>\n",
       "      <th>pub_rec_bankruptcies</th>\n",
       "      <th>tax_liens</th>\n",
       "      <th>total_bal_ex_mort</th>\n",
       "      <th>total_bc_limit</th>\n",
       "      <th>loan_status</th>\n",
       "    </tr>\n",
       "  </thead>\n",
       "  <tbody>\n",
       "    <tr>\n",
       "      <th>0</th>\n",
       "      <td>3600.0</td>\n",
       "      <td>36 months</td>\n",
       "      <td>13.99</td>\n",
       "      <td>123.03</td>\n",
       "      <td>C</td>\n",
       "      <td>10+ years</td>\n",
       "      <td>MORTGAGE</td>\n",
       "      <td>55000.0</td>\n",
       "      <td>Not Verified</td>\n",
       "      <td>n</td>\n",
       "      <td>...</td>\n",
       "      <td>0.0</td>\n",
       "      <td>0.0</td>\n",
       "      <td>3.0</td>\n",
       "      <td>76.9</td>\n",
       "      <td>0.0</td>\n",
       "      <td>0.0</td>\n",
       "      <td>0.0</td>\n",
       "      <td>7746.0</td>\n",
       "      <td>2400.0</td>\n",
       "      <td>1</td>\n",
       "    </tr>\n",
       "    <tr>\n",
       "      <th>1</th>\n",
       "      <td>24700.0</td>\n",
       "      <td>36 months</td>\n",
       "      <td>11.99</td>\n",
       "      <td>820.28</td>\n",
       "      <td>C</td>\n",
       "      <td>10+ years</td>\n",
       "      <td>MORTGAGE</td>\n",
       "      <td>65000.0</td>\n",
       "      <td>Not Verified</td>\n",
       "      <td>n</td>\n",
       "      <td>...</td>\n",
       "      <td>0.0</td>\n",
       "      <td>0.0</td>\n",
       "      <td>2.0</td>\n",
       "      <td>97.4</td>\n",
       "      <td>7.7</td>\n",
       "      <td>0.0</td>\n",
       "      <td>0.0</td>\n",
       "      <td>39475.0</td>\n",
       "      <td>79300.0</td>\n",
       "      <td>1</td>\n",
       "    </tr>\n",
       "    <tr>\n",
       "      <th>2</th>\n",
       "      <td>20000.0</td>\n",
       "      <td>60 months</td>\n",
       "      <td>10.78</td>\n",
       "      <td>432.66</td>\n",
       "      <td>B</td>\n",
       "      <td>10+ years</td>\n",
       "      <td>MORTGAGE</td>\n",
       "      <td>63000.0</td>\n",
       "      <td>Not Verified</td>\n",
       "      <td>n</td>\n",
       "      <td>...</td>\n",
       "      <td>0.0</td>\n",
       "      <td>0.0</td>\n",
       "      <td>0.0</td>\n",
       "      <td>100.0</td>\n",
       "      <td>50.0</td>\n",
       "      <td>0.0</td>\n",
       "      <td>0.0</td>\n",
       "      <td>18696.0</td>\n",
       "      <td>6200.0</td>\n",
       "      <td>1</td>\n",
       "    </tr>\n",
       "    <tr>\n",
       "      <th>3</th>\n",
       "      <td>10400.0</td>\n",
       "      <td>60 months</td>\n",
       "      <td>22.45</td>\n",
       "      <td>289.91</td>\n",
       "      <td>F</td>\n",
       "      <td>3 years</td>\n",
       "      <td>MORTGAGE</td>\n",
       "      <td>104433.0</td>\n",
       "      <td>Source Verified</td>\n",
       "      <td>n</td>\n",
       "      <td>...</td>\n",
       "      <td>0.0</td>\n",
       "      <td>0.0</td>\n",
       "      <td>4.0</td>\n",
       "      <td>96.6</td>\n",
       "      <td>60.0</td>\n",
       "      <td>0.0</td>\n",
       "      <td>0.0</td>\n",
       "      <td>95768.0</td>\n",
       "      <td>20300.0</td>\n",
       "      <td>1</td>\n",
       "    </tr>\n",
       "    <tr>\n",
       "      <th>4</th>\n",
       "      <td>11950.0</td>\n",
       "      <td>36 months</td>\n",
       "      <td>13.44</td>\n",
       "      <td>405.18</td>\n",
       "      <td>C</td>\n",
       "      <td>4 years</td>\n",
       "      <td>RENT</td>\n",
       "      <td>34000.0</td>\n",
       "      <td>Source Verified</td>\n",
       "      <td>n</td>\n",
       "      <td>...</td>\n",
       "      <td>0.0</td>\n",
       "      <td>0.0</td>\n",
       "      <td>0.0</td>\n",
       "      <td>100.0</td>\n",
       "      <td>100.0</td>\n",
       "      <td>0.0</td>\n",
       "      <td>0.0</td>\n",
       "      <td>12798.0</td>\n",
       "      <td>9400.0</td>\n",
       "      <td>1</td>\n",
       "    </tr>\n",
       "  </tbody>\n",
       "</table>\n",
       "<p>5 rows × 74 columns</p>\n",
       "</div>"
      ],
      "text/plain": [
       "   loan_amnt        term  int_rate  installment grade emp_length  \\\n",
       "0     3600.0   36 months     13.99       123.03     C  10+ years   \n",
       "1    24700.0   36 months     11.99       820.28     C  10+ years   \n",
       "2    20000.0   60 months     10.78       432.66     B  10+ years   \n",
       "3    10400.0   60 months     22.45       289.91     F    3 years   \n",
       "4    11950.0   36 months     13.44       405.18     C    4 years   \n",
       "\n",
       "  home_ownership  annual_inc verification_status pymnt_plan  ... num_tl_30dpd  \\\n",
       "0       MORTGAGE     55000.0        Not Verified          n  ...          0.0   \n",
       "1       MORTGAGE     65000.0        Not Verified          n  ...          0.0   \n",
       "2       MORTGAGE     63000.0        Not Verified          n  ...          0.0   \n",
       "3       MORTGAGE    104433.0     Source Verified          n  ...          0.0   \n",
       "4           RENT     34000.0     Source Verified          n  ...          0.0   \n",
       "\n",
       "  num_tl_90g_dpd_24m  num_tl_op_past_12m  pct_tl_nvr_dlq  percent_bc_gt_75  \\\n",
       "0                0.0                 3.0            76.9               0.0   \n",
       "1                0.0                 2.0            97.4               7.7   \n",
       "2                0.0                 0.0           100.0              50.0   \n",
       "3                0.0                 4.0            96.6              60.0   \n",
       "4                0.0                 0.0           100.0             100.0   \n",
       "\n",
       "   pub_rec_bankruptcies  tax_liens  total_bal_ex_mort  total_bc_limit  \\\n",
       "0                   0.0        0.0             7746.0          2400.0   \n",
       "1                   0.0        0.0            39475.0         79300.0   \n",
       "2                   0.0        0.0            18696.0          6200.0   \n",
       "3                   0.0        0.0            95768.0         20300.0   \n",
       "4                   0.0        0.0            12798.0          9400.0   \n",
       "\n",
       "   loan_status  \n",
       "0            1  \n",
       "1            1  \n",
       "2            1  \n",
       "3            1  \n",
       "4            1  \n",
       "\n",
       "[5 rows x 74 columns]"
      ]
     },
     "execution_count": 2,
     "metadata": {},
     "output_type": "execute_result"
    }
   ],
   "source": [
    "# import cleaned dataset\n",
    "accepted_cleaned = pd.read_csv('./cleaned dataset v1.csv')\n",
    "accepted_cleaned.drop(columns=['Unnamed: 0','sub_grade','addr_state'],inplace=True)\n",
    "accepted_cleaned.head()"
   ]
  },
  {
   "cell_type": "code",
   "execution_count": 3,
   "metadata": {},
   "outputs": [],
   "source": [
    "# adjust the import error\n",
    "accepted_cleaned['term'] = accepted_cleaned['term'].str.strip()\n",
    "# remove the columns with only 1 value.\n",
    "accepted_cleaned = accepted_cleaned.drop(columns = ['out_prncp', 'pymnt_plan'])"
   ]
  },
  {
   "cell_type": "code",
   "execution_count": 4,
   "metadata": {},
   "outputs": [
    {
     "data": {
      "text/plain": [
       "1    1076751\n",
       "0     268559\n",
       "Name: loan_status, dtype: int64"
      ]
     },
     "execution_count": 4,
     "metadata": {},
     "output_type": "execute_result"
    }
   ],
   "source": [
    "accepted_cleaned.loan_status.value_counts()"
   ]
  },
  {
   "cell_type": "code",
   "execution_count": 5,
   "metadata": {},
   "outputs": [
    {
     "name": "stdout",
     "output_type": "stream",
     "text": [
      "<class 'pandas.core.frame.DataFrame'>\n",
      "RangeIndex: 1345310 entries, 0 to 1345309\n",
      "Data columns (total 72 columns):\n",
      " #   Column                      Non-Null Count    Dtype  \n",
      "---  ------                      --------------    -----  \n",
      " 0   loan_amnt                   1345310 non-null  float64\n",
      " 1   term                        1345310 non-null  object \n",
      " 2   int_rate                    1345310 non-null  float64\n",
      " 3   installment                 1345310 non-null  float64\n",
      " 4   grade                       1345310 non-null  object \n",
      " 5   emp_length                  1345310 non-null  object \n",
      " 6   home_ownership              1345310 non-null  object \n",
      " 7   annual_inc                  1345310 non-null  float64\n",
      " 8   verification_status         1345310 non-null  object \n",
      " 9   purpose                     1345310 non-null  object \n",
      " 10  title                       1345310 non-null  object \n",
      " 11  dti                         1345310 non-null  float64\n",
      " 12  delinq_2yrs                 1345310 non-null  float64\n",
      " 13  fico_range_low              1345310 non-null  float64\n",
      " 14  fico_range_high             1345310 non-null  float64\n",
      " 15  inq_last_6mths              1345310 non-null  float64\n",
      " 16  open_acc                    1345310 non-null  float64\n",
      " 17  pub_rec                     1345310 non-null  float64\n",
      " 18  revol_bal                   1345310 non-null  float64\n",
      " 19  revol_util                  1345310 non-null  float64\n",
      " 20  total_acc                   1345310 non-null  float64\n",
      " 21  initial_list_status         1345310 non-null  object \n",
      " 22  total_pymnt                 1345310 non-null  float64\n",
      " 23  total_pymnt_inv             1345310 non-null  float64\n",
      " 24  total_rec_prncp             1345310 non-null  float64\n",
      " 25  total_rec_int               1345310 non-null  float64\n",
      " 26  total_rec_late_fee          1345310 non-null  float64\n",
      " 27  recoveries                  1345310 non-null  float64\n",
      " 28  collection_recovery_fee     1345310 non-null  float64\n",
      " 29  last_pymnt_amnt             1345310 non-null  float64\n",
      " 30  last_fico_range_high        1345310 non-null  float64\n",
      " 31  last_fico_range_low         1345310 non-null  float64\n",
      " 32  collections_12_mths_ex_med  1345310 non-null  float64\n",
      " 33  application_type            1345310 non-null  object \n",
      " 34  acc_now_delinq              1345310 non-null  float64\n",
      " 35  tot_coll_amt                1345310 non-null  float64\n",
      " 36  tot_cur_bal                 1345310 non-null  float64\n",
      " 37  total_rev_hi_lim            1345310 non-null  float64\n",
      " 38  acc_open_past_24mths        1345310 non-null  float64\n",
      " 39  avg_cur_bal                 1345310 non-null  float64\n",
      " 40  bc_open_to_buy              1345310 non-null  float64\n",
      " 41  bc_util                     1345310 non-null  float64\n",
      " 42  chargeoff_within_12_mths    1345310 non-null  float64\n",
      " 43  delinq_amnt                 1345310 non-null  float64\n",
      " 44  mo_sin_old_il_acct          1345310 non-null  float64\n",
      " 45  mo_sin_old_rev_tl_op        1345310 non-null  float64\n",
      " 46  mo_sin_rcnt_rev_tl_op       1345310 non-null  float64\n",
      " 47  mo_sin_rcnt_tl              1345310 non-null  float64\n",
      " 48  mort_acc                    1345310 non-null  float64\n",
      " 49  mths_since_recent_bc        1345310 non-null  float64\n",
      " 50  mths_since_recent_inq       1345310 non-null  float64\n",
      " 51  num_accts_ever_120_pd       1345310 non-null  float64\n",
      " 52  num_actv_bc_tl              1345310 non-null  float64\n",
      " 53  num_actv_rev_tl             1345310 non-null  float64\n",
      " 54  num_bc_sats                 1345310 non-null  float64\n",
      " 55  num_bc_tl                   1345310 non-null  float64\n",
      " 56  num_il_tl                   1345310 non-null  float64\n",
      " 57  num_op_rev_tl               1345310 non-null  float64\n",
      " 58  num_rev_accts               1345310 non-null  float64\n",
      " 59  num_rev_tl_bal_gt_0         1345310 non-null  float64\n",
      " 60  num_sats                    1345310 non-null  float64\n",
      " 61  num_tl_120dpd_2m            1345310 non-null  float64\n",
      " 62  num_tl_30dpd                1345310 non-null  float64\n",
      " 63  num_tl_90g_dpd_24m          1345310 non-null  float64\n",
      " 64  num_tl_op_past_12m          1345310 non-null  float64\n",
      " 65  pct_tl_nvr_dlq              1345310 non-null  float64\n",
      " 66  percent_bc_gt_75            1345310 non-null  float64\n",
      " 67  pub_rec_bankruptcies        1345310 non-null  float64\n",
      " 68  tax_liens                   1345310 non-null  float64\n",
      " 69  total_bal_ex_mort           1345310 non-null  float64\n",
      " 70  total_bc_limit              1345310 non-null  float64\n",
      " 71  loan_status                 1345310 non-null  int64  \n",
      "dtypes: float64(62), int64(1), object(9)\n",
      "memory usage: 739.0+ MB\n"
     ]
    }
   ],
   "source": [
    "accepted_cleaned.info()"
   ]
  },
  {
   "cell_type": "code",
   "execution_count": 6,
   "metadata": {},
   "outputs": [],
   "source": [
    "df_features = pd.read_csv('selected_features.csv', index_col=0, \\\n",
    "    converters={\"selected\": lambda x: x.split(\", \")})"
   ]
  },
  {
   "cell_type": "code",
   "execution_count": 7,
   "metadata": {},
   "outputs": [
    {
     "data": {
      "text/html": [
       "<div>\n",
       "<style scoped>\n",
       "    .dataframe tbody tr th:only-of-type {\n",
       "        vertical-align: middle;\n",
       "    }\n",
       "\n",
       "    .dataframe tbody tr th {\n",
       "        vertical-align: top;\n",
       "    }\n",
       "\n",
       "    .dataframe thead th {\n",
       "        text-align: right;\n",
       "    }\n",
       "</style>\n",
       "<table border=\"1\" class=\"dataframe\">\n",
       "  <thead>\n",
       "    <tr style=\"text-align: right;\">\n",
       "      <th></th>\n",
       "      <th>method</th>\n",
       "      <th>selected</th>\n",
       "      <th>variation explained</th>\n",
       "    </tr>\n",
       "  </thead>\n",
       "  <tbody>\n",
       "    <tr>\n",
       "      <th>0</th>\n",
       "      <td>method 1 rf</td>\n",
       "      <td>[last_fico_range_high, last_fico_range_low, co...</td>\n",
       "      <td>0</td>\n",
       "    </tr>\n",
       "    <tr>\n",
       "      <th>1</th>\n",
       "      <td>method 1 lr</td>\n",
       "      <td>[total_rec_prncp, loan_amnt, total_pymnt, inst...</td>\n",
       "      <td>0</td>\n",
       "    </tr>\n",
       "    <tr>\n",
       "      <th>2</th>\n",
       "      <td>method 1 xgb</td>\n",
       "      <td>[last_fico_range_high, recoveries, last_pymnt_...</td>\n",
       "      <td>0</td>\n",
       "    </tr>\n",
       "    <tr>\n",
       "      <th>3</th>\n",
       "      <td>method 1 tree</td>\n",
       "      <td>[last_fico_range_high, recoveries, last_pymnt_...</td>\n",
       "      <td>0</td>\n",
       "    </tr>\n",
       "    <tr>\n",
       "      <th>4</th>\n",
       "      <td>method 1</td>\n",
       "      <td>[last_fico_range_high, recoveries, total_rec_p...</td>\n",
       "      <td>0</td>\n",
       "    </tr>\n",
       "    <tr>\n",
       "      <th>5</th>\n",
       "      <td>method 2 rf</td>\n",
       "      <td>[recoveries, collection_recovery_fee, total_re...</td>\n",
       "      <td>dict_keys([90.74506949918954])</td>\n",
       "    </tr>\n",
       "    <tr>\n",
       "      <th>6</th>\n",
       "      <td>method 2 log</td>\n",
       "      <td>[total_rec_prncp, loan_amnt, installment, tota...</td>\n",
       "      <td>dict_keys([91.93158957678138])</td>\n",
       "    </tr>\n",
       "    <tr>\n",
       "      <th>7</th>\n",
       "      <td>method 2 xgb</td>\n",
       "      <td>[total_rec_prncp, loan_amnt, recoveries, last_...</td>\n",
       "      <td>dict_keys([90.35169])</td>\n",
       "    </tr>\n",
       "    <tr>\n",
       "      <th>8</th>\n",
       "      <td>method 2 tree</td>\n",
       "      <td>[last_fico_range_high, recoveries, last_pymnt_...</td>\n",
       "      <td>dict_keys([95.41853534529831])</td>\n",
       "    </tr>\n",
       "    <tr>\n",
       "      <th>9</th>\n",
       "      <td>method 3</td>\n",
       "      <td>[total_pymnt, total_rec_prncp, total_rec_int, ...</td>\n",
       "      <td>0</td>\n",
       "    </tr>\n",
       "    <tr>\n",
       "      <th>10</th>\n",
       "      <td>method 4 rf</td>\n",
       "      <td>[int_rate, total_pymnt, total_pymnt_inv, total...</td>\n",
       "      <td>0</td>\n",
       "    </tr>\n",
       "    <tr>\n",
       "      <th>11</th>\n",
       "      <td>method 4 xgb</td>\n",
       "      <td>[recoveries, last_fico_range_high]</td>\n",
       "      <td>0</td>\n",
       "    </tr>\n",
       "  </tbody>\n",
       "</table>\n",
       "</div>"
      ],
      "text/plain": [
       "           method                                           selected  \\\n",
       "0     method 1 rf  [last_fico_range_high, last_fico_range_low, co...   \n",
       "1     method 1 lr  [total_rec_prncp, loan_amnt, total_pymnt, inst...   \n",
       "2    method 1 xgb  [last_fico_range_high, recoveries, last_pymnt_...   \n",
       "3   method 1 tree  [last_fico_range_high, recoveries, last_pymnt_...   \n",
       "4        method 1  [last_fico_range_high, recoveries, total_rec_p...   \n",
       "5     method 2 rf  [recoveries, collection_recovery_fee, total_re...   \n",
       "6    method 2 log  [total_rec_prncp, loan_amnt, installment, tota...   \n",
       "7    method 2 xgb  [total_rec_prncp, loan_amnt, recoveries, last_...   \n",
       "8   method 2 tree  [last_fico_range_high, recoveries, last_pymnt_...   \n",
       "9        method 3  [total_pymnt, total_rec_prncp, total_rec_int, ...   \n",
       "10    method 4 rf  [int_rate, total_pymnt, total_pymnt_inv, total...   \n",
       "11   method 4 xgb                 [recoveries, last_fico_range_high]   \n",
       "\n",
       "               variation explained  \n",
       "0                                0  \n",
       "1                                0  \n",
       "2                                0  \n",
       "3                                0  \n",
       "4                                0  \n",
       "5   dict_keys([90.74506949918954])  \n",
       "6   dict_keys([91.93158957678138])  \n",
       "7            dict_keys([90.35169])  \n",
       "8   dict_keys([95.41853534529831])  \n",
       "9                                0  \n",
       "10                               0  \n",
       "11                               0  "
      ]
     },
     "execution_count": 7,
     "metadata": {},
     "output_type": "execute_result"
    }
   ],
   "source": [
    "df_features"
   ]
  },
  {
   "cell_type": "code",
   "execution_count": 8,
   "metadata": {},
   "outputs": [
    {
     "data": {
      "text/plain": [
       "['last_fico_range_high',\n",
       " 'recoveries',\n",
       " 'total_rec_prncp',\n",
       " 'last_pymnt_amnt',\n",
       " 'last_fico_range_low',\n",
       " 'total_pymnt',\n",
       " 'collection_recovery_fee',\n",
       " 'total_pymnt_inv',\n",
       " 'int_rate']"
      ]
     },
     "execution_count": 8,
     "metadata": {},
     "output_type": "execute_result"
    }
   ],
   "source": [
    "selected_features = df_features.loc[df_features['method']=='method 1','selected'].tolist()[0]\n",
    "selected_features"
   ]
  },
  {
   "cell_type": "markdown",
   "metadata": {},
   "source": [
    "### resplit data"
   ]
  },
  {
   "cell_type": "code",
   "execution_count": 9,
   "metadata": {},
   "outputs": [],
   "source": [
    "# split to train and test\n",
    "X_train, X_test, y_train, y_test = train_test_split(\n",
    "    accepted_cleaned.drop(columns='loan_status'), accepted_cleaned['loan_status'], test_size=0.1, random_state=42)"
   ]
  },
  {
   "cell_type": "code",
   "execution_count": 10,
   "metadata": {},
   "outputs": [],
   "source": [
    "# select numerical and categorical values\n",
    "X_num_cols = X_train.select_dtypes(include='number').columns.tolist()\n",
    "X_cat_cols = X_train.select_dtypes(include='O').columns.tolist()\n",
    "X_test_num_cols = X_test.select_dtypes(include='number').columns.tolist()\n",
    "X_test_cat_cols = X_test.select_dtypes(include='O').columns.tolist()"
   ]
  },
  {
   "cell_type": "code",
   "execution_count": 11,
   "metadata": {},
   "outputs": [],
   "source": [
    "# Normalization and onehot encode.\n",
    "SD = StandardScaler()\n",
    "OE = OneHotEncoder(drop='first')\n",
    "X_num = SD.fit_transform(X_train[X_num_cols])\n",
    "X_cat = OE.fit_transform(X_train[X_cat_cols])\n",
    "X_cat = X_cat.toarray()\n",
    "\n",
    "X_test_num = SD.transform(X_test[X_test_num_cols])\n",
    "X_test_cat = OE.transform(X_test[X_test_cat_cols])\n",
    "X_test_cat = X_test_cat.toarray()"
   ]
  },
  {
   "cell_type": "code",
   "execution_count": 12,
   "metadata": {},
   "outputs": [],
   "source": [
    "# combine feature names and matrix names\n",
    "feature_names = np.concatenate((SD.get_feature_names_out(), OE.get_feature_names_out()))\n",
    "X_train = pd.DataFrame(np.concatenate((X_num, X_cat), axis = 1), columns=feature_names)\n",
    "X_test = pd.DataFrame(np.concatenate((X_test_num, X_test_cat), axis = 1), columns=feature_names)"
   ]
  },
  {
   "cell_type": "markdown",
   "metadata": {},
   "source": [
    "### Train"
   ]
  },
  {
   "cell_type": "code",
   "execution_count": 13,
   "metadata": {},
   "outputs": [
    {
     "data": {
      "text/html": [
       "<div>\n",
       "<style scoped>\n",
       "    .dataframe tbody tr th:only-of-type {\n",
       "        vertical-align: middle;\n",
       "    }\n",
       "\n",
       "    .dataframe tbody tr th {\n",
       "        vertical-align: top;\n",
       "    }\n",
       "\n",
       "    .dataframe thead th {\n",
       "        text-align: right;\n",
       "    }\n",
       "</style>\n",
       "<table border=\"1\" class=\"dataframe\">\n",
       "  <thead>\n",
       "    <tr style=\"text-align: right;\">\n",
       "      <th></th>\n",
       "      <th>method</th>\n",
       "      <th>selected</th>\n",
       "      <th>variation explained</th>\n",
       "    </tr>\n",
       "  </thead>\n",
       "  <tbody>\n",
       "    <tr>\n",
       "      <th>0</th>\n",
       "      <td>method 1 rf</td>\n",
       "      <td>[last_fico_range_high, last_fico_range_low, co...</td>\n",
       "      <td>0</td>\n",
       "    </tr>\n",
       "    <tr>\n",
       "      <th>1</th>\n",
       "      <td>method 1 lr</td>\n",
       "      <td>[total_rec_prncp, loan_amnt, total_pymnt, inst...</td>\n",
       "      <td>0</td>\n",
       "    </tr>\n",
       "    <tr>\n",
       "      <th>2</th>\n",
       "      <td>method 1 xgb</td>\n",
       "      <td>[last_fico_range_high, recoveries, last_pymnt_...</td>\n",
       "      <td>0</td>\n",
       "    </tr>\n",
       "    <tr>\n",
       "      <th>3</th>\n",
       "      <td>method 1 tree</td>\n",
       "      <td>[last_fico_range_high, recoveries, last_pymnt_...</td>\n",
       "      <td>0</td>\n",
       "    </tr>\n",
       "    <tr>\n",
       "      <th>4</th>\n",
       "      <td>method 1</td>\n",
       "      <td>[last_fico_range_high, recoveries, total_rec_p...</td>\n",
       "      <td>0</td>\n",
       "    </tr>\n",
       "    <tr>\n",
       "      <th>5</th>\n",
       "      <td>method 2 rf</td>\n",
       "      <td>[recoveries, collection_recovery_fee, total_re...</td>\n",
       "      <td>dict_keys([90.74506949918954])</td>\n",
       "    </tr>\n",
       "    <tr>\n",
       "      <th>6</th>\n",
       "      <td>method 2 log</td>\n",
       "      <td>[total_rec_prncp, loan_amnt, installment, tota...</td>\n",
       "      <td>dict_keys([91.93158957678138])</td>\n",
       "    </tr>\n",
       "    <tr>\n",
       "      <th>7</th>\n",
       "      <td>method 2 xgb</td>\n",
       "      <td>[total_rec_prncp, loan_amnt, recoveries, last_...</td>\n",
       "      <td>dict_keys([90.35169])</td>\n",
       "    </tr>\n",
       "    <tr>\n",
       "      <th>8</th>\n",
       "      <td>method 2 tree</td>\n",
       "      <td>[last_fico_range_high, recoveries, last_pymnt_...</td>\n",
       "      <td>dict_keys([95.41853534529831])</td>\n",
       "    </tr>\n",
       "    <tr>\n",
       "      <th>9</th>\n",
       "      <td>method 3</td>\n",
       "      <td>[total_pymnt, total_rec_prncp, total_rec_int, ...</td>\n",
       "      <td>0</td>\n",
       "    </tr>\n",
       "    <tr>\n",
       "      <th>10</th>\n",
       "      <td>method 4 rf</td>\n",
       "      <td>[int_rate, total_pymnt, total_pymnt_inv, total...</td>\n",
       "      <td>0</td>\n",
       "    </tr>\n",
       "    <tr>\n",
       "      <th>11</th>\n",
       "      <td>method 4 xgb</td>\n",
       "      <td>[recoveries, last_fico_range_high]</td>\n",
       "      <td>0</td>\n",
       "    </tr>\n",
       "  </tbody>\n",
       "</table>\n",
       "</div>"
      ],
      "text/plain": [
       "           method                                           selected  \\\n",
       "0     method 1 rf  [last_fico_range_high, last_fico_range_low, co...   \n",
       "1     method 1 lr  [total_rec_prncp, loan_amnt, total_pymnt, inst...   \n",
       "2    method 1 xgb  [last_fico_range_high, recoveries, last_pymnt_...   \n",
       "3   method 1 tree  [last_fico_range_high, recoveries, last_pymnt_...   \n",
       "4        method 1  [last_fico_range_high, recoveries, total_rec_p...   \n",
       "5     method 2 rf  [recoveries, collection_recovery_fee, total_re...   \n",
       "6    method 2 log  [total_rec_prncp, loan_amnt, installment, tota...   \n",
       "7    method 2 xgb  [total_rec_prncp, loan_amnt, recoveries, last_...   \n",
       "8   method 2 tree  [last_fico_range_high, recoveries, last_pymnt_...   \n",
       "9        method 3  [total_pymnt, total_rec_prncp, total_rec_int, ...   \n",
       "10    method 4 rf  [int_rate, total_pymnt, total_pymnt_inv, total...   \n",
       "11   method 4 xgb                 [recoveries, last_fico_range_high]   \n",
       "\n",
       "               variation explained  \n",
       "0                                0  \n",
       "1                                0  \n",
       "2                                0  \n",
       "3                                0  \n",
       "4                                0  \n",
       "5   dict_keys([90.74506949918954])  \n",
       "6   dict_keys([91.93158957678138])  \n",
       "7            dict_keys([90.35169])  \n",
       "8   dict_keys([95.41853534529831])  \n",
       "9                                0  \n",
       "10                               0  \n",
       "11                               0  "
      ]
     },
     "execution_count": 13,
     "metadata": {},
     "output_type": "execute_result"
    }
   ],
   "source": [
    "df_features"
   ]
  },
  {
   "cell_type": "markdown",
   "metadata": {},
   "source": [
    "#### Random Forest"
   ]
  },
  {
   "cell_type": "code",
   "execution_count": 14,
   "metadata": {},
   "outputs": [
    {
     "name": "stdout",
     "output_type": "stream",
     "text": [
      "(1210779, 11) (1210779,) (134531, 11) (134531,)\n",
      "['recoveries', 'collection_recovery_fee', 'total_rec_prncp', 'last_pymnt_amnt', 'last_fico_range_low', 'last_fico_range_high', 'total_pymnt', 'total_pymnt_inv', 'loan_amnt', 'installment', 'term_60 months']\n"
     ]
    }
   ],
   "source": [
    "# select features for training\n",
    "rf_selected_features = df_features.loc[df_features['method']=='method 2 rf','selected'].tolist()[0]\n",
    "rf_X_train = X_train[rf_selected_features]\n",
    "rf_X_test = X_test[rf_selected_features]\n",
    "print(rf_X_train.shape,y_train.shape, rf_X_test.shape, y_test.shape)\n",
    "print(rf_selected_features)"
   ]
  },
  {
   "cell_type": "code",
   "execution_count": 15,
   "metadata": {},
   "outputs": [
    {
     "name": "stdout",
     "output_type": "stream",
     "text": [
      "(483858, 11) (483858,)\n"
     ]
    }
   ],
   "source": [
    "# undersampling\n",
    "us = RandomUnderSampler()\n",
    "rf_X_train_us, rf_y_train_us = us.fit_resample(rf_X_train, y_train)\n",
    "print(rf_X_train_us.shape, rf_y_train_us.shape)"
   ]
  },
  {
   "cell_type": "code",
   "execution_count": 16,
   "metadata": {},
   "outputs": [
    {
     "data": {
      "text/plain": [
       "GridSearchCV(cv=5, estimator=RandomForestClassifier(), param_grid={})"
      ]
     },
     "execution_count": 16,
     "metadata": {},
     "output_type": "execute_result"
    }
   ],
   "source": [
    "# Random forest feature importance\n",
    "RF = RandomForestClassifier()\n",
    "RF_params = {}\n",
    "RF_cv =  GridSearchCV(RF, param_grid=RF_params ,cv=5)\n",
    "RF_cv.fit(rf_X_train_us, rf_y_train_us)"
   ]
  },
  {
   "cell_type": "markdown",
   "metadata": {},
   "source": [
    "#### Logistic Regression"
   ]
  },
  {
   "cell_type": "code",
   "execution_count": 17,
   "metadata": {},
   "outputs": [
    {
     "name": "stdout",
     "output_type": "stream",
     "text": [
      "(1210779, 10) (1210779,) (134531, 10) (134531,)\n",
      "['total_rec_prncp', 'loan_amnt', 'installment', 'total_pymnt', 'recoveries', 'collection_recovery_fee', 'total_rec_int', 'term_60 months', 'last_pymnt_amnt', 'total_pymnt_inv']\n"
     ]
    }
   ],
   "source": [
    "# select features for training\n",
    "log_selected_features = df_features.loc[df_features['method']=='method 2 log','selected'].tolist()[0]\n",
    "log_X_train = X_train[log_selected_features]\n",
    "log_X_test = X_test[log_selected_features]\n",
    "print(log_X_train.shape,y_train.shape, log_X_test.shape, y_test.shape)\n",
    "print(log_selected_features)"
   ]
  },
  {
   "cell_type": "code",
   "execution_count": 18,
   "metadata": {},
   "outputs": [
    {
     "name": "stdout",
     "output_type": "stream",
     "text": [
      "(483858, 10) (483858,)\n"
     ]
    }
   ],
   "source": [
    "# undersampling\n",
    "us = RandomUnderSampler()\n",
    "log_X_train_us, log_y_train_us = us.fit_resample(log_X_train, y_train)\n",
    "print(log_X_train_us.shape, log_y_train_us.shape)"
   ]
  },
  {
   "cell_type": "code",
   "execution_count": 19,
   "metadata": {},
   "outputs": [
    {
     "name": "stderr",
     "output_type": "stream",
     "text": [
      "/opt/anaconda3/lib/python3.8/site-packages/sklearn/linear_model/_logistic.py:814: ConvergenceWarning: lbfgs failed to converge (status=1):\n",
      "STOP: TOTAL NO. of ITERATIONS REACHED LIMIT.\n",
      "\n",
      "Increase the number of iterations (max_iter) or scale the data as shown in:\n",
      "    https://scikit-learn.org/stable/modules/preprocessing.html\n",
      "Please also refer to the documentation for alternative solver options:\n",
      "    https://scikit-learn.org/stable/modules/linear_model.html#logistic-regression\n",
      "  n_iter_i = _check_optimize_result(\n",
      "/opt/anaconda3/lib/python3.8/site-packages/sklearn/linear_model/_logistic.py:814: ConvergenceWarning: lbfgs failed to converge (status=1):\n",
      "STOP: TOTAL NO. of ITERATIONS REACHED LIMIT.\n",
      "\n",
      "Increase the number of iterations (max_iter) or scale the data as shown in:\n",
      "    https://scikit-learn.org/stable/modules/preprocessing.html\n",
      "Please also refer to the documentation for alternative solver options:\n",
      "    https://scikit-learn.org/stable/modules/linear_model.html#logistic-regression\n",
      "  n_iter_i = _check_optimize_result(\n",
      "/opt/anaconda3/lib/python3.8/site-packages/sklearn/linear_model/_logistic.py:814: ConvergenceWarning: lbfgs failed to converge (status=1):\n",
      "STOP: TOTAL NO. of ITERATIONS REACHED LIMIT.\n",
      "\n",
      "Increase the number of iterations (max_iter) or scale the data as shown in:\n",
      "    https://scikit-learn.org/stable/modules/preprocessing.html\n",
      "Please also refer to the documentation for alternative solver options:\n",
      "    https://scikit-learn.org/stable/modules/linear_model.html#logistic-regression\n",
      "  n_iter_i = _check_optimize_result(\n",
      "/opt/anaconda3/lib/python3.8/site-packages/sklearn/linear_model/_logistic.py:814: ConvergenceWarning: lbfgs failed to converge (status=1):\n",
      "STOP: TOTAL NO. of ITERATIONS REACHED LIMIT.\n",
      "\n",
      "Increase the number of iterations (max_iter) or scale the data as shown in:\n",
      "    https://scikit-learn.org/stable/modules/preprocessing.html\n",
      "Please also refer to the documentation for alternative solver options:\n",
      "    https://scikit-learn.org/stable/modules/linear_model.html#logistic-regression\n",
      "  n_iter_i = _check_optimize_result(\n",
      "/opt/anaconda3/lib/python3.8/site-packages/sklearn/linear_model/_logistic.py:814: ConvergenceWarning: lbfgs failed to converge (status=1):\n",
      "STOP: TOTAL NO. of ITERATIONS REACHED LIMIT.\n",
      "\n",
      "Increase the number of iterations (max_iter) or scale the data as shown in:\n",
      "    https://scikit-learn.org/stable/modules/preprocessing.html\n",
      "Please also refer to the documentation for alternative solver options:\n",
      "    https://scikit-learn.org/stable/modules/linear_model.html#logistic-regression\n",
      "  n_iter_i = _check_optimize_result(\n"
     ]
    },
    {
     "data": {
      "text/plain": [
       "GridSearchCV(cv=5, estimator=LogisticRegression(), param_grid={})"
      ]
     },
     "execution_count": 19,
     "metadata": {},
     "output_type": "execute_result"
    }
   ],
   "source": [
    "# Logistic Regression coefficient (not suitable for data with multilinearity)\n",
    "LR = LogisticRegression()\n",
    "LR_params = {}\n",
    "LR_cv = GridSearchCV(LR, param_grid=LR_params, cv=5)\n",
    "LR_cv.fit(log_X_train_us, log_y_train_us)"
   ]
  },
  {
   "cell_type": "markdown",
   "metadata": {},
   "source": [
    "#### XGB"
   ]
  },
  {
   "cell_type": "code",
   "execution_count": 20,
   "metadata": {},
   "outputs": [
    {
     "name": "stdout",
     "output_type": "stream",
     "text": [
      "(1210779, 13) (1210779,) (134531, 13) (134531,)\n",
      "['total_rec_prncp', 'loan_amnt', 'recoveries', 'last_fico_range_high', 'last_pymnt_amnt', 'installment', 'total_rec_late_fee', 'total_pymnt', 'int_rate', 'total_rec_int', 'revol_util', 'term_60 months', 'mo_sin_old_rev_tl_op']\n"
     ]
    }
   ],
   "source": [
    "# select features for training\n",
    "xgb_selected_features = df_features.loc[df_features['method']=='method 2 xgb','selected'].tolist()[0]\n",
    "xgb_X_train = X_train[xgb_selected_features]\n",
    "xgb_X_test = X_test[xgb_selected_features]\n",
    "print(xgb_X_train.shape,y_train.shape, xgb_X_test.shape, y_test.shape)\n",
    "print(xgb_selected_features)"
   ]
  },
  {
   "cell_type": "code",
   "execution_count": 21,
   "metadata": {},
   "outputs": [
    {
     "name": "stdout",
     "output_type": "stream",
     "text": [
      "(483858, 13) (483858,)\n"
     ]
    }
   ],
   "source": [
    "# undersampling\n",
    "us = RandomUnderSampler()\n",
    "xgb_X_train_us, xgb_y_train_us = us.fit_resample(xgb_X_train, y_train)\n",
    "print(xgb_X_train_us.shape, xgb_y_train_us.shape)"
   ]
  },
  {
   "cell_type": "code",
   "execution_count": 22,
   "metadata": {},
   "outputs": [
    {
     "name": "stdout",
     "output_type": "stream",
     "text": [
      "[02:39:08] WARNING: ../src/learner.cc:1115: Starting in XGBoost 1.3.0, the default evaluation metric used with the objective 'binary:logistic' was changed from 'error' to 'logloss'. Explicitly set eval_metric if you'd like to restore the old behavior.\n",
      "[02:39:37] WARNING: ../src/learner.cc:1115: Starting in XGBoost 1.3.0, the default evaluation metric used with the objective 'binary:logistic' was changed from 'error' to 'logloss'. Explicitly set eval_metric if you'd like to restore the old behavior.\n",
      "[02:40:02] WARNING: ../src/learner.cc:1115: Starting in XGBoost 1.3.0, the default evaluation metric used with the objective 'binary:logistic' was changed from 'error' to 'logloss'. Explicitly set eval_metric if you'd like to restore the old behavior.\n",
      "[02:40:24] WARNING: ../src/learner.cc:1115: Starting in XGBoost 1.3.0, the default evaluation metric used with the objective 'binary:logistic' was changed from 'error' to 'logloss'. Explicitly set eval_metric if you'd like to restore the old behavior.\n",
      "[02:40:50] WARNING: ../src/learner.cc:1115: Starting in XGBoost 1.3.0, the default evaluation metric used with the objective 'binary:logistic' was changed from 'error' to 'logloss'. Explicitly set eval_metric if you'd like to restore the old behavior.\n",
      "[02:41:14] WARNING: ../src/learner.cc:1115: Starting in XGBoost 1.3.0, the default evaluation metric used with the objective 'binary:logistic' was changed from 'error' to 'logloss'. Explicitly set eval_metric if you'd like to restore the old behavior.\n"
     ]
    },
    {
     "data": {
      "text/plain": [
       "GridSearchCV(cv=5,\n",
       "             estimator=XGBClassifier(base_score=None, booster=None,\n",
       "                                     colsample_bylevel=None,\n",
       "                                     colsample_bynode=None,\n",
       "                                     colsample_bytree=None,\n",
       "                                     enable_categorical=False, gamma=None,\n",
       "                                     gpu_id=None, importance_type=None,\n",
       "                                     interaction_constraints=None,\n",
       "                                     learning_rate=None, max_delta_step=None,\n",
       "                                     max_depth=None, min_child_weight=None,\n",
       "                                     missing=nan, monotone_constraints=None,\n",
       "                                     n_estimators=100, n_jobs=None,\n",
       "                                     num_parallel_tree=None, predictor=None,\n",
       "                                     random_state=None, reg_alpha=None,\n",
       "                                     reg_lambda=None, scale_pos_weight=None,\n",
       "                                     subsample=None, tree_method=None,\n",
       "                                     use_label_encoder=False,\n",
       "                                     validate_parameters=None, verbosity=None),\n",
       "             param_grid={})"
      ]
     },
     "execution_count": 22,
     "metadata": {},
     "output_type": "execute_result"
    }
   ],
   "source": [
    "# XGboost\n",
    "XGboost = XGBClassifier(use_label_encoder=False)\n",
    "XG_params = {}\n",
    "XGboost_cv = GridSearchCV(XGboost, param_grid=XG_params ,cv=5)\n",
    "XGboost_cv.fit(xgb_X_train_us, xgb_y_train_us)"
   ]
  },
  {
   "cell_type": "markdown",
   "metadata": {},
   "source": [
    "#### NN"
   ]
  },
  {
   "cell_type": "code",
   "execution_count": 23,
   "metadata": {},
   "outputs": [
    {
     "name": "stdout",
     "output_type": "stream",
     "text": [
      "(1210779, 9) (1210779,) (134531, 9) (134531,)\n",
      "['last_fico_range_high', 'recoveries', 'total_rec_prncp', 'last_pymnt_amnt', 'last_fico_range_low', 'total_pymnt', 'collection_recovery_fee', 'total_pymnt_inv', 'int_rate']\n"
     ]
    }
   ],
   "source": [
    "# select features for training\n",
    "NN_selected_features = df_features.loc[df_features['method']=='method 1','selected'].tolist()[0]\n",
    "NN_X_train = X_train[NN_selected_features]\n",
    "NN_X_test = X_test[NN_selected_features]\n",
    "print(NN_X_train.shape,y_train.shape, NN_X_test.shape, y_test.shape)\n",
    "print(NN_selected_features)"
   ]
  },
  {
   "cell_type": "code",
   "execution_count": 24,
   "metadata": {},
   "outputs": [
    {
     "name": "stdout",
     "output_type": "stream",
     "text": [
      "(483858, 9) (483858,)\n"
     ]
    }
   ],
   "source": [
    "# undersampling\n",
    "us = RandomUnderSampler()\n",
    "NN_X_train_us, NN_y_train_us = us.fit_resample(NN_X_train, y_train)\n",
    "print(NN_X_train_us.shape, NN_y_train_us.shape)"
   ]
  },
  {
   "cell_type": "code",
   "execution_count": 25,
   "metadata": {},
   "outputs": [
    {
     "name": "stdout",
     "output_type": "stream",
     "text": [
      "(483858, 9) (483858, 2) (134531, 9) (134531, 2)\n"
     ]
    }
   ],
   "source": [
    "# NN\n",
    "NN_y_train_us = to_categorical(NN_y_train_us)\n",
    "NN_y_test = to_categorical(y_test)\n",
    "print(NN_X_train_us.shape, NN_y_train_us.shape, NN_X_test.shape, NN_y_test.shape)"
   ]
  },
  {
   "cell_type": "code",
   "execution_count": 29,
   "metadata": {},
   "outputs": [],
   "source": [
    "#Dense layers only\n",
    "model=Sequential()\n",
    "model.add(Dense(12,input_dim=9,activation='relu'))\n",
    "model.add(Dense(8,activation='relu'))\n",
    "model.add(Dense(2,activation='softmax')) # output the results into two categories and l\n",
    "model.compile(loss='binary_crossentropy',optimizer='adam',metrics=['acc']) #optimizer: help to minimize the loss because it is a classificati\n",
    "\n",
    "# fit model\n",
    "history = model.fit(NN_X_train_us, NN_y_train_us, validation_data=(NN_X_test, NN_y_test), epochs=30, verbose=0)"
   ]
  },
  {
   "cell_type": "markdown",
   "metadata": {},
   "source": [
    "#### Performance Comparison"
   ]
  },
  {
   "cell_type": "code",
   "execution_count": 30,
   "metadata": {},
   "outputs": [],
   "source": [
    "def performance(model, X_test, y_test):\n",
    "    '''take model and test data, output classification report and confusion matrix'''\n",
    "    # precision: true charged off / Predict charged off\n",
    "    # recall: true charged off / Real charged off people\n",
    "    y_pred = model.predict(X_test)\n",
    "    y_prob = model.predict_proba(X_test)\n",
    "    # classification report\n",
    "    print(classification_report(y_pred=y_pred, y_true = y_test))\n",
    "    # print train error\n",
    "    print(confusion_matrix(y_pred=y_pred, y_true = y_test))\n",
    "    # ROC, AUC\n",
    "    fpr, tpr, thres = roc_curve([int(i) for i in y_test],  y_prob[:,1])\n",
    "    auc = roc_auc_score([int(i) for i in y_test], y_prob[:,1])\n",
    "    sns.scatterplot(fpr,tpr)\n",
    "    plt.title(round(auc,4))"
   ]
  },
  {
   "cell_type": "code",
   "execution_count": 32,
   "metadata": {},
   "outputs": [
    {
     "name": "stdout",
     "output_type": "stream",
     "text": [
      "              precision    recall  f1-score   support\n",
      "\n",
      "           0       1.00      1.00      1.00     26630\n",
      "           1       1.00      1.00      1.00    107901\n",
      "\n",
      "    accuracy                           1.00    134531\n",
      "   macro avg       1.00      1.00      1.00    134531\n",
      "weighted avg       1.00      1.00      1.00    134531\n",
      "\n",
      "[[ 26534     96]\n",
      " [    29 107872]]\n"
     ]
    },
    {
     "name": "stderr",
     "output_type": "stream",
     "text": [
      "/opt/anaconda3/lib/python3.8/site-packages/seaborn/_decorators.py:36: FutureWarning: Pass the following variables as keyword args: x, y. From version 0.12, the only valid positional argument will be `data`, and passing other arguments without an explicit keyword will result in an error or misinterpretation.\n",
      "  warnings.warn(\n"
     ]
    },
    {
     "data": {
      "image/png": "[encoded data removed]",
      "text/plain": [
       "<Figure size 432x288 with 1 Axes>"
      ]
     },
     "metadata": {
      "needs_background": "light"
     },
     "output_type": "display_data"
    }
   ],
   "source": [
    "performance(RF_cv, rf_X_test, y_test)"
   ]
  },
  {
   "cell_type": "code",
   "execution_count": 33,
   "metadata": {},
   "outputs": [
    {
     "name": "stdout",
     "output_type": "stream",
     "text": [
      "              precision    recall  f1-score   support\n",
      "\n",
      "           0       0.99      0.99      0.99     26630\n",
      "           1       1.00      1.00      1.00    107901\n",
      "\n",
      "    accuracy                           1.00    134531\n",
      "   macro avg       1.00      0.99      0.99    134531\n",
      "weighted avg       1.00      1.00      1.00    134531\n",
      "\n",
      "[[ 26369    261]\n",
      " [   175 107726]]\n"
     ]
    },
    {
     "name": "stderr",
     "output_type": "stream",
     "text": [
      "/opt/anaconda3/lib/python3.8/site-packages/seaborn/_decorators.py:36: FutureWarning: Pass the following variables as keyword args: x, y. From version 0.12, the only valid positional argument will be `data`, and passing other arguments without an explicit keyword will result in an error or misinterpretation.\n",
      "  warnings.warn(\n"
     ]
    },
    {
     "data": {
      "image/png": "[encoded data removed]",
      "text/plain": [
       "<Figure size 432x288 with 1 Axes>"
      ]
     },
     "metadata": {
      "needs_background": "light"
     },
     "output_type": "display_data"
    }
   ],
   "source": [
    "performance(LR_cv, log_X_test, y_test)"
   ]
  },
  {
   "cell_type": "code",
   "execution_count": 34,
   "metadata": {},
   "outputs": [
    {
     "name": "stdout",
     "output_type": "stream",
     "text": [
      "              precision    recall  f1-score   support\n",
      "\n",
      "           0       1.00      1.00      1.00     26630\n",
      "           1       1.00      1.00      1.00    107901\n",
      "\n",
      "    accuracy                           1.00    134531\n",
      "   macro avg       1.00      1.00      1.00    134531\n",
      "weighted avg       1.00      1.00      1.00    134531\n",
      "\n",
      "[[ 26589     41]\n",
      " [    10 107891]]\n"
     ]
    },
    {
     "name": "stderr",
     "output_type": "stream",
     "text": [
      "/opt/anaconda3/lib/python3.8/site-packages/seaborn/_decorators.py:36: FutureWarning: Pass the following variables as keyword args: x, y. From version 0.12, the only valid positional argument will be `data`, and passing other arguments without an explicit keyword will result in an error or misinterpretation.\n",
      "  warnings.warn(\n"
     ]
    },
    {
     "data": {
      "image/png": "[encoded data removed]",
      "text/plain": [
       "<Figure size 432x288 with 1 Axes>"
      ]
     },
     "metadata": {
      "needs_background": "light"
     },
     "output_type": "display_data"
    }
   ],
   "source": [
    "performance(XGboost_cv, xgb_X_test, y_test)"
   ]
  },
  {
   "cell_type": "code",
   "execution_count": 35,
   "metadata": {},
   "outputs": [
    {
     "data": {
      "image/png": "[encoded data removed]",
      "text/plain": [
       "<Figure size 432x288 with 2 Axes>"
      ]
     },
     "metadata": {
      "needs_background": "light"
     },
     "output_type": "display_data"
    }
   ],
   "source": [
    "# evaluate the NN model\n",
    "_, train_acc = model.evaluate(NN_X_train_us, NN_y_train_us, verbose=0)\n",
    "_, test_acc = model.evaluate(NN_X_test, NN_y_test, verbose=0)\n",
    "\n",
    "# plot loss during training\n",
    "plt.subplot(211)\n",
    "plt.title('Loss')\n",
    "plt.plot(history.history['loss'], label='train')\n",
    "plt.plot(history.history['val_loss'], label='test')\n",
    "plt.legend()\n",
    "# plot accuracy during training\n",
    "plt.subplot(212)\n",
    "plt.title('Accuracy')\n",
    "plt.plot(history.history['acc'], label='train')\n",
    "plt.plot(history.history['val_acc'], label='test')\n",
    "plt.legend()\n",
    "plt.show()"
   ]
  },
  {
   "cell_type": "code",
   "execution_count": 37,
   "metadata": {},
   "outputs": [
    {
     "name": "stdout",
     "output_type": "stream",
     "text": [
      "              precision    recall  f1-score   support\n",
      "\n",
      "           0       0.98      0.99      0.98     26630\n",
      "           1       1.00      0.99      1.00    107901\n",
      "\n",
      "    accuracy                           0.99    134531\n",
      "   macro avg       0.99      0.99      0.99    134531\n",
      "weighted avg       0.99      0.99      0.99    134531\n",
      "\n"
     ]
    }
   ],
   "source": [
    "# Prediction accuracy\n",
    "y_prob = model.predict(NN_X_test)\n",
    "y_pred = np.argmax(y_prob, axis = 1)\n",
    "np.unique(y_pred, return_counts = True)\n",
    "print(classification_report(y_pred=y_pred, y_true= y_test))"
   ]
  },
  {
   "cell_type": "code",
   "execution_count": null,
   "metadata": {},
   "outputs": [],
   "source": []
  }
 ],
 "metadata": {
  "interpreter": {
   "hash": "40d3a090f54c6569ab1632332b64b2c03c39dcf918b08424e98f38b5ae0af88f"
  },
  "kernelspec": {
   "display_name": "Python 3.8.8 ('base')",
   "language": "python",
   "name": "python3"
  },
  "language_info": {
   "codemirror_mode": {
    "name": "ipython",
    "version": 3
   },
   "file_extension": ".py",
   "mimetype": "text/x-python",
   "name": "python",
   "nbconvert_exporter": "python",
   "pygments_lexer": "ipython3",
   "version": "3.8.8"
  },
  "orig_nbformat": 4
 },
 "nbformat": 4,
 "nbformat_minor": 2
}
