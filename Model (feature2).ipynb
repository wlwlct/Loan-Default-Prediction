{
 "cells": [
  {
   "cell_type": "markdown",
   "metadata": {},
   "source": [
    "### import library, data and selected features"
   ]
  },
  {
   "cell_type": "code",
   "execution_count": 20,
   "metadata": {},
   "outputs": [
    {
     "ename": "KeyboardInterrupt",
     "evalue": "",
     "output_type": "error",
     "traceback": [
      "\u001b[0;31m---------------------------------------------------------------------------\u001b[0m",
      "\u001b[0;31mKeyboardInterrupt\u001b[0m                         Traceback (most recent call last)",
      "\u001b[1;32m/Users/livi/Git/Loan-Default-Prediction/Model (feature2).ipynb Cell 2'\u001b[0m in \u001b[0;36m<cell line: 30>\u001b[0;34m()\u001b[0m\n\u001b[1;32m     <a href='vscode-notebook-cell:/Users/livi/Git/Loan-Default-Prediction/Model%20%28feature2%29.ipynb#ch0000001?line=24'>25</a>\u001b[0m \u001b[39mfrom\u001b[39;00m \u001b[39mkeras\u001b[39;00m\u001b[39m.\u001b[39;00m\u001b[39mutils\u001b[39;00m\u001b[39m.\u001b[39;00m\u001b[39mnp_utils\u001b[39;00m \u001b[39mimport\u001b[39;00m to_categorical\n\u001b[1;32m     <a href='vscode-notebook-cell:/Users/livi/Git/Loan-Default-Prediction/Model%20%28feature2%29.ipynb#ch0000001?line=28'>29</a>\u001b[0m \u001b[39m# import cleaned dataset\u001b[39;00m\n\u001b[0;32m---> <a href='vscode-notebook-cell:/Users/livi/Git/Loan-Default-Prediction/Model%20%28feature2%29.ipynb#ch0000001?line=29'>30</a>\u001b[0m accepted_cleaned \u001b[39m=\u001b[39m pd\u001b[39m.\u001b[39;49mread_csv(\u001b[39m'\u001b[39;49m\u001b[39m./cleaned dataset V2.csv\u001b[39;49m\u001b[39m'\u001b[39;49m)\n\u001b[1;32m     <a href='vscode-notebook-cell:/Users/livi/Git/Loan-Default-Prediction/Model%20%28feature2%29.ipynb#ch0000001?line=30'>31</a>\u001b[0m accepted_cleaned\u001b[39m.\u001b[39mdrop(columns\u001b[39m=\u001b[39m[\u001b[39m'\u001b[39m\u001b[39mUnnamed: 0\u001b[39m\u001b[39m'\u001b[39m,\u001b[39m'\u001b[39m\u001b[39maddr_state\u001b[39m\u001b[39m'\u001b[39m],inplace\u001b[39m=\u001b[39m\u001b[39mTrue\u001b[39;00m)\n\u001b[1;32m     <a href='vscode-notebook-cell:/Users/livi/Git/Loan-Default-Prediction/Model%20%28feature2%29.ipynb#ch0000001?line=31'>32</a>\u001b[0m accepted_cleaned\u001b[39m.\u001b[39mhead()\n",
      "File \u001b[0;32m/opt/anaconda3/lib/python3.8/site-packages/pandas/util/_decorators.py:311\u001b[0m, in \u001b[0;36mdeprecate_nonkeyword_arguments.<locals>.decorate.<locals>.wrapper\u001b[0;34m(*args, **kwargs)\u001b[0m\n\u001b[1;32m    <a href='file:///opt/anaconda3/lib/python3.8/site-packages/pandas/util/_decorators.py?line=304'>305</a>\u001b[0m \u001b[39mif\u001b[39;00m \u001b[39mlen\u001b[39m(args) \u001b[39m>\u001b[39m num_allow_args:\n\u001b[1;32m    <a href='file:///opt/anaconda3/lib/python3.8/site-packages/pandas/util/_decorators.py?line=305'>306</a>\u001b[0m     warnings\u001b[39m.\u001b[39mwarn(\n\u001b[1;32m    <a href='file:///opt/anaconda3/lib/python3.8/site-packages/pandas/util/_decorators.py?line=306'>307</a>\u001b[0m         msg\u001b[39m.\u001b[39mformat(arguments\u001b[39m=\u001b[39marguments),\n\u001b[1;32m    <a href='file:///opt/anaconda3/lib/python3.8/site-packages/pandas/util/_decorators.py?line=307'>308</a>\u001b[0m         \u001b[39mFutureWarning\u001b[39;00m,\n\u001b[1;32m    <a href='file:///opt/anaconda3/lib/python3.8/site-packages/pandas/util/_decorators.py?line=308'>309</a>\u001b[0m         stacklevel\u001b[39m=\u001b[39mstacklevel,\n\u001b[1;32m    <a href='file:///opt/anaconda3/lib/python3.8/site-packages/pandas/util/_decorators.py?line=309'>310</a>\u001b[0m     )\n\u001b[0;32m--> <a href='file:///opt/anaconda3/lib/python3.8/site-packages/pandas/util/_decorators.py?line=310'>311</a>\u001b[0m \u001b[39mreturn\u001b[39;00m func(\u001b[39m*\u001b[39;49margs, \u001b[39m*\u001b[39;49m\u001b[39m*\u001b[39;49mkwargs)\n",
      "File \u001b[0;32m/opt/anaconda3/lib/python3.8/site-packages/pandas/io/parsers/readers.py:680\u001b[0m, in \u001b[0;36mread_csv\u001b[0;34m(filepath_or_buffer, sep, delimiter, header, names, index_col, usecols, squeeze, prefix, mangle_dupe_cols, dtype, engine, converters, true_values, false_values, skipinitialspace, skiprows, skipfooter, nrows, na_values, keep_default_na, na_filter, verbose, skip_blank_lines, parse_dates, infer_datetime_format, keep_date_col, date_parser, dayfirst, cache_dates, iterator, chunksize, compression, thousands, decimal, lineterminator, quotechar, quoting, doublequote, escapechar, comment, encoding, encoding_errors, dialect, error_bad_lines, warn_bad_lines, on_bad_lines, delim_whitespace, low_memory, memory_map, float_precision, storage_options)\u001b[0m\n\u001b[1;32m    <a href='file:///opt/anaconda3/lib/python3.8/site-packages/pandas/io/parsers/readers.py?line=664'>665</a>\u001b[0m kwds_defaults \u001b[39m=\u001b[39m _refine_defaults_read(\n\u001b[1;32m    <a href='file:///opt/anaconda3/lib/python3.8/site-packages/pandas/io/parsers/readers.py?line=665'>666</a>\u001b[0m     dialect,\n\u001b[1;32m    <a href='file:///opt/anaconda3/lib/python3.8/site-packages/pandas/io/parsers/readers.py?line=666'>667</a>\u001b[0m     delimiter,\n\u001b[0;32m   (...)\u001b[0m\n\u001b[1;32m    <a href='file:///opt/anaconda3/lib/python3.8/site-packages/pandas/io/parsers/readers.py?line=675'>676</a>\u001b[0m     defaults\u001b[39m=\u001b[39m{\u001b[39m\"\u001b[39m\u001b[39mdelimiter\u001b[39m\u001b[39m\"\u001b[39m: \u001b[39m\"\u001b[39m\u001b[39m,\u001b[39m\u001b[39m\"\u001b[39m},\n\u001b[1;32m    <a href='file:///opt/anaconda3/lib/python3.8/site-packages/pandas/io/parsers/readers.py?line=676'>677</a>\u001b[0m )\n\u001b[1;32m    <a href='file:///opt/anaconda3/lib/python3.8/site-packages/pandas/io/parsers/readers.py?line=677'>678</a>\u001b[0m kwds\u001b[39m.\u001b[39mupdate(kwds_defaults)\n\u001b[0;32m--> <a href='file:///opt/anaconda3/lib/python3.8/site-packages/pandas/io/parsers/readers.py?line=679'>680</a>\u001b[0m \u001b[39mreturn\u001b[39;00m _read(filepath_or_buffer, kwds)\n",
      "File \u001b[0;32m/opt/anaconda3/lib/python3.8/site-packages/pandas/io/parsers/readers.py:581\u001b[0m, in \u001b[0;36m_read\u001b[0;34m(filepath_or_buffer, kwds)\u001b[0m\n\u001b[1;32m    <a href='file:///opt/anaconda3/lib/python3.8/site-packages/pandas/io/parsers/readers.py?line=577'>578</a>\u001b[0m     \u001b[39mreturn\u001b[39;00m parser\n\u001b[1;32m    <a href='file:///opt/anaconda3/lib/python3.8/site-packages/pandas/io/parsers/readers.py?line=579'>580</a>\u001b[0m \u001b[39mwith\u001b[39;00m parser:\n\u001b[0;32m--> <a href='file:///opt/anaconda3/lib/python3.8/site-packages/pandas/io/parsers/readers.py?line=580'>581</a>\u001b[0m     \u001b[39mreturn\u001b[39;00m parser\u001b[39m.\u001b[39;49mread(nrows)\n",
      "File \u001b[0;32m/opt/anaconda3/lib/python3.8/site-packages/pandas/io/parsers/readers.py:1265\u001b[0m, in \u001b[0;36mTextFileReader.read\u001b[0;34m(self, nrows)\u001b[0m\n\u001b[1;32m   <a href='file:///opt/anaconda3/lib/python3.8/site-packages/pandas/io/parsers/readers.py?line=1261'>1262</a>\u001b[0m     \u001b[39melse\u001b[39;00m:\n\u001b[1;32m   <a href='file:///opt/anaconda3/lib/python3.8/site-packages/pandas/io/parsers/readers.py?line=1262'>1263</a>\u001b[0m         new_rows \u001b[39m=\u001b[39m \u001b[39mlen\u001b[39m(index)\n\u001b[0;32m-> <a href='file:///opt/anaconda3/lib/python3.8/site-packages/pandas/io/parsers/readers.py?line=1264'>1265</a>\u001b[0m     df \u001b[39m=\u001b[39m DataFrame(col_dict, columns\u001b[39m=\u001b[39;49mcolumns, index\u001b[39m=\u001b[39;49mindex)\n\u001b[1;32m   <a href='file:///opt/anaconda3/lib/python3.8/site-packages/pandas/io/parsers/readers.py?line=1266'>1267</a>\u001b[0m     \u001b[39mself\u001b[39m\u001b[39m.\u001b[39m_currow \u001b[39m+\u001b[39m\u001b[39m=\u001b[39m new_rows\n\u001b[1;32m   <a href='file:///opt/anaconda3/lib/python3.8/site-packages/pandas/io/parsers/readers.py?line=1268'>1269</a>\u001b[0m \u001b[39mif\u001b[39;00m \u001b[39mself\u001b[39m\u001b[39m.\u001b[39msqueeze \u001b[39mand\u001b[39;00m \u001b[39mlen\u001b[39m(df\u001b[39m.\u001b[39mcolumns) \u001b[39m==\u001b[39m \u001b[39m1\u001b[39m:\n",
      "File \u001b[0;32m/opt/anaconda3/lib/python3.8/site-packages/pandas/core/frame.py:636\u001b[0m, in \u001b[0;36mDataFrame.__init__\u001b[0;34m(self, data, index, columns, dtype, copy)\u001b[0m\n\u001b[1;32m    <a href='file:///opt/anaconda3/lib/python3.8/site-packages/pandas/core/frame.py?line=629'>630</a>\u001b[0m     mgr \u001b[39m=\u001b[39m \u001b[39mself\u001b[39m\u001b[39m.\u001b[39m_init_mgr(\n\u001b[1;32m    <a href='file:///opt/anaconda3/lib/python3.8/site-packages/pandas/core/frame.py?line=630'>631</a>\u001b[0m         data, axes\u001b[39m=\u001b[39m{\u001b[39m\"\u001b[39m\u001b[39mindex\u001b[39m\u001b[39m\"\u001b[39m: index, \u001b[39m\"\u001b[39m\u001b[39mcolumns\u001b[39m\u001b[39m\"\u001b[39m: columns}, dtype\u001b[39m=\u001b[39mdtype, copy\u001b[39m=\u001b[39mcopy\n\u001b[1;32m    <a href='file:///opt/anaconda3/lib/python3.8/site-packages/pandas/core/frame.py?line=631'>632</a>\u001b[0m     )\n\u001b[1;32m    <a href='file:///opt/anaconda3/lib/python3.8/site-packages/pandas/core/frame.py?line=633'>634</a>\u001b[0m \u001b[39melif\u001b[39;00m \u001b[39misinstance\u001b[39m(data, \u001b[39mdict\u001b[39m):\n\u001b[1;32m    <a href='file:///opt/anaconda3/lib/python3.8/site-packages/pandas/core/frame.py?line=634'>635</a>\u001b[0m     \u001b[39m# GH#38939 de facto copy defaults to False only in non-dict cases\u001b[39;00m\n\u001b[0;32m--> <a href='file:///opt/anaconda3/lib/python3.8/site-packages/pandas/core/frame.py?line=635'>636</a>\u001b[0m     mgr \u001b[39m=\u001b[39m dict_to_mgr(data, index, columns, dtype\u001b[39m=\u001b[39;49mdtype, copy\u001b[39m=\u001b[39;49mcopy, typ\u001b[39m=\u001b[39;49mmanager)\n\u001b[1;32m    <a href='file:///opt/anaconda3/lib/python3.8/site-packages/pandas/core/frame.py?line=636'>637</a>\u001b[0m \u001b[39melif\u001b[39;00m \u001b[39misinstance\u001b[39m(data, ma\u001b[39m.\u001b[39mMaskedArray):\n\u001b[1;32m    <a href='file:///opt/anaconda3/lib/python3.8/site-packages/pandas/core/frame.py?line=637'>638</a>\u001b[0m     \u001b[39mimport\u001b[39;00m \u001b[39mnumpy\u001b[39;00m\u001b[39m.\u001b[39;00m\u001b[39mma\u001b[39;00m\u001b[39m.\u001b[39;00m\u001b[39mmrecords\u001b[39;00m \u001b[39mas\u001b[39;00m \u001b[39mmrecords\u001b[39;00m\n",
      "File \u001b[0;32m/opt/anaconda3/lib/python3.8/site-packages/pandas/core/internals/construction.py:502\u001b[0m, in \u001b[0;36mdict_to_mgr\u001b[0;34m(data, index, columns, dtype, typ, copy)\u001b[0m\n\u001b[1;32m    <a href='file:///opt/anaconda3/lib/python3.8/site-packages/pandas/core/internals/construction.py?line=493'>494</a>\u001b[0m     arrays \u001b[39m=\u001b[39m [\n\u001b[1;32m    <a href='file:///opt/anaconda3/lib/python3.8/site-packages/pandas/core/internals/construction.py?line=494'>495</a>\u001b[0m         x\n\u001b[1;32m    <a href='file:///opt/anaconda3/lib/python3.8/site-packages/pandas/core/internals/construction.py?line=495'>496</a>\u001b[0m         \u001b[39mif\u001b[39;00m \u001b[39mnot\u001b[39;00m \u001b[39mhasattr\u001b[39m(x, \u001b[39m\"\u001b[39m\u001b[39mdtype\u001b[39m\u001b[39m\"\u001b[39m) \u001b[39mor\u001b[39;00m \u001b[39mnot\u001b[39;00m \u001b[39misinstance\u001b[39m(x\u001b[39m.\u001b[39mdtype, ExtensionDtype)\n\u001b[1;32m    <a href='file:///opt/anaconda3/lib/python3.8/site-packages/pandas/core/internals/construction.py?line=496'>497</a>\u001b[0m         \u001b[39melse\u001b[39;00m x\u001b[39m.\u001b[39mcopy()\n\u001b[1;32m    <a href='file:///opt/anaconda3/lib/python3.8/site-packages/pandas/core/internals/construction.py?line=497'>498</a>\u001b[0m         \u001b[39mfor\u001b[39;00m x \u001b[39min\u001b[39;00m arrays\n\u001b[1;32m    <a href='file:///opt/anaconda3/lib/python3.8/site-packages/pandas/core/internals/construction.py?line=498'>499</a>\u001b[0m     ]\n\u001b[1;32m    <a href='file:///opt/anaconda3/lib/python3.8/site-packages/pandas/core/internals/construction.py?line=499'>500</a>\u001b[0m     \u001b[39m# TODO: can we get rid of the dt64tz special case above?\u001b[39;00m\n\u001b[0;32m--> <a href='file:///opt/anaconda3/lib/python3.8/site-packages/pandas/core/internals/construction.py?line=501'>502</a>\u001b[0m \u001b[39mreturn\u001b[39;00m arrays_to_mgr(arrays, columns, index, dtype\u001b[39m=\u001b[39;49mdtype, typ\u001b[39m=\u001b[39;49mtyp, consolidate\u001b[39m=\u001b[39;49mcopy)\n",
      "File \u001b[0;32m/opt/anaconda3/lib/python3.8/site-packages/pandas/core/internals/construction.py:156\u001b[0m, in \u001b[0;36marrays_to_mgr\u001b[0;34m(arrays, columns, index, dtype, verify_integrity, typ, consolidate)\u001b[0m\n\u001b[1;32m    <a href='file:///opt/anaconda3/lib/python3.8/site-packages/pandas/core/internals/construction.py?line=152'>153</a>\u001b[0m axes \u001b[39m=\u001b[39m [columns, index]\n\u001b[1;32m    <a href='file:///opt/anaconda3/lib/python3.8/site-packages/pandas/core/internals/construction.py?line=154'>155</a>\u001b[0m \u001b[39mif\u001b[39;00m typ \u001b[39m==\u001b[39m \u001b[39m\"\u001b[39m\u001b[39mblock\u001b[39m\u001b[39m\"\u001b[39m:\n\u001b[0;32m--> <a href='file:///opt/anaconda3/lib/python3.8/site-packages/pandas/core/internals/construction.py?line=155'>156</a>\u001b[0m     \u001b[39mreturn\u001b[39;00m create_block_manager_from_column_arrays(\n\u001b[1;32m    <a href='file:///opt/anaconda3/lib/python3.8/site-packages/pandas/core/internals/construction.py?line=156'>157</a>\u001b[0m         arrays, axes, consolidate\u001b[39m=\u001b[39;49mconsolidate\n\u001b[1;32m    <a href='file:///opt/anaconda3/lib/python3.8/site-packages/pandas/core/internals/construction.py?line=157'>158</a>\u001b[0m     )\n\u001b[1;32m    <a href='file:///opt/anaconda3/lib/python3.8/site-packages/pandas/core/internals/construction.py?line=158'>159</a>\u001b[0m \u001b[39melif\u001b[39;00m typ \u001b[39m==\u001b[39m \u001b[39m\"\u001b[39m\u001b[39marray\u001b[39m\u001b[39m\"\u001b[39m:\n\u001b[1;32m    <a href='file:///opt/anaconda3/lib/python3.8/site-packages/pandas/core/internals/construction.py?line=159'>160</a>\u001b[0m     \u001b[39mreturn\u001b[39;00m ArrayManager(arrays, [index, columns])\n",
      "File \u001b[0;32m/opt/anaconda3/lib/python3.8/site-packages/pandas/core/internals/managers.py:1959\u001b[0m, in \u001b[0;36mcreate_block_manager_from_column_arrays\u001b[0;34m(arrays, axes, consolidate)\u001b[0m\n\u001b[1;32m   <a href='file:///opt/anaconda3/lib/python3.8/site-packages/pandas/core/internals/managers.py?line=1956'>1957</a>\u001b[0m     \u001b[39mraise\u001b[39;00m construction_error(\u001b[39mlen\u001b[39m(arrays), arrays[\u001b[39m0\u001b[39m]\u001b[39m.\u001b[39mshape, axes, e)\n\u001b[1;32m   <a href='file:///opt/anaconda3/lib/python3.8/site-packages/pandas/core/internals/managers.py?line=1957'>1958</a>\u001b[0m \u001b[39mif\u001b[39;00m consolidate:\n\u001b[0;32m-> <a href='file:///opt/anaconda3/lib/python3.8/site-packages/pandas/core/internals/managers.py?line=1958'>1959</a>\u001b[0m     mgr\u001b[39m.\u001b[39;49m_consolidate_inplace()\n\u001b[1;32m   <a href='file:///opt/anaconda3/lib/python3.8/site-packages/pandas/core/internals/managers.py?line=1959'>1960</a>\u001b[0m \u001b[39mreturn\u001b[39;00m mgr\n",
      "File \u001b[0;32m/opt/anaconda3/lib/python3.8/site-packages/pandas/core/internals/managers.py:1685\u001b[0m, in \u001b[0;36mBlockManager._consolidate_inplace\u001b[0;34m(self)\u001b[0m\n\u001b[1;32m   <a href='file:///opt/anaconda3/lib/python3.8/site-packages/pandas/core/internals/managers.py?line=1682'>1683</a>\u001b[0m \u001b[39mdef\u001b[39;00m \u001b[39m_consolidate_inplace\u001b[39m(\u001b[39mself\u001b[39m) \u001b[39m-\u001b[39m\u001b[39m>\u001b[39m \u001b[39mNone\u001b[39;00m:\n\u001b[1;32m   <a href='file:///opt/anaconda3/lib/python3.8/site-packages/pandas/core/internals/managers.py?line=1683'>1684</a>\u001b[0m     \u001b[39mif\u001b[39;00m \u001b[39mnot\u001b[39;00m \u001b[39mself\u001b[39m\u001b[39m.\u001b[39mis_consolidated():\n\u001b[0;32m-> <a href='file:///opt/anaconda3/lib/python3.8/site-packages/pandas/core/internals/managers.py?line=1684'>1685</a>\u001b[0m         \u001b[39mself\u001b[39m\u001b[39m.\u001b[39mblocks \u001b[39m=\u001b[39m \u001b[39mtuple\u001b[39m(_consolidate(\u001b[39mself\u001b[39;49m\u001b[39m.\u001b[39;49mblocks))\n\u001b[1;32m   <a href='file:///opt/anaconda3/lib/python3.8/site-packages/pandas/core/internals/managers.py?line=1685'>1686</a>\u001b[0m         \u001b[39mself\u001b[39m\u001b[39m.\u001b[39m_is_consolidated \u001b[39m=\u001b[39m \u001b[39mTrue\u001b[39;00m\n\u001b[1;32m   <a href='file:///opt/anaconda3/lib/python3.8/site-packages/pandas/core/internals/managers.py?line=1686'>1687</a>\u001b[0m         \u001b[39mself\u001b[39m\u001b[39m.\u001b[39m_known_consolidated \u001b[39m=\u001b[39m \u001b[39mTrue\u001b[39;00m\n",
      "File \u001b[0;32m/opt/anaconda3/lib/python3.8/site-packages/pandas/core/internals/managers.py:2084\u001b[0m, in \u001b[0;36m_consolidate\u001b[0;34m(blocks)\u001b[0m\n\u001b[1;32m   <a href='file:///opt/anaconda3/lib/python3.8/site-packages/pandas/core/internals/managers.py?line=2081'>2082</a>\u001b[0m new_blocks: \u001b[39mlist\u001b[39m[Block] \u001b[39m=\u001b[39m []\n\u001b[1;32m   <a href='file:///opt/anaconda3/lib/python3.8/site-packages/pandas/core/internals/managers.py?line=2082'>2083</a>\u001b[0m \u001b[39mfor\u001b[39;00m (_can_consolidate, dtype), group_blocks \u001b[39min\u001b[39;00m grouper:\n\u001b[0;32m-> <a href='file:///opt/anaconda3/lib/python3.8/site-packages/pandas/core/internals/managers.py?line=2083'>2084</a>\u001b[0m     merged_blocks \u001b[39m=\u001b[39m _merge_blocks(\n\u001b[1;32m   <a href='file:///opt/anaconda3/lib/python3.8/site-packages/pandas/core/internals/managers.py?line=2084'>2085</a>\u001b[0m         \u001b[39mlist\u001b[39;49m(group_blocks), dtype\u001b[39m=\u001b[39;49mdtype, can_consolidate\u001b[39m=\u001b[39;49m_can_consolidate\n\u001b[1;32m   <a href='file:///opt/anaconda3/lib/python3.8/site-packages/pandas/core/internals/managers.py?line=2085'>2086</a>\u001b[0m     )\n\u001b[1;32m   <a href='file:///opt/anaconda3/lib/python3.8/site-packages/pandas/core/internals/managers.py?line=2086'>2087</a>\u001b[0m     new_blocks \u001b[39m=\u001b[39m extend_blocks(merged_blocks, new_blocks)\n\u001b[1;32m   <a href='file:///opt/anaconda3/lib/python3.8/site-packages/pandas/core/internals/managers.py?line=2087'>2088</a>\u001b[0m \u001b[39mreturn\u001b[39;00m new_blocks\n",
      "File \u001b[0;32m/opt/anaconda3/lib/python3.8/site-packages/pandas/core/internals/managers.py:2118\u001b[0m, in \u001b[0;36m_merge_blocks\u001b[0;34m(blocks, dtype, can_consolidate)\u001b[0m\n\u001b[1;32m   <a href='file:///opt/anaconda3/lib/python3.8/site-packages/pandas/core/internals/managers.py?line=2114'>2115</a>\u001b[0m     new_values \u001b[39m=\u001b[39m bvals2[\u001b[39m0\u001b[39m]\u001b[39m.\u001b[39m_concat_same_type(bvals2, axis\u001b[39m=\u001b[39m\u001b[39m0\u001b[39m)\n\u001b[1;32m   <a href='file:///opt/anaconda3/lib/python3.8/site-packages/pandas/core/internals/managers.py?line=2116'>2117</a>\u001b[0m argsort \u001b[39m=\u001b[39m np\u001b[39m.\u001b[39margsort(new_mgr_locs)\n\u001b[0;32m-> <a href='file:///opt/anaconda3/lib/python3.8/site-packages/pandas/core/internals/managers.py?line=2117'>2118</a>\u001b[0m new_values \u001b[39m=\u001b[39m new_values[argsort]\n\u001b[1;32m   <a href='file:///opt/anaconda3/lib/python3.8/site-packages/pandas/core/internals/managers.py?line=2118'>2119</a>\u001b[0m new_mgr_locs \u001b[39m=\u001b[39m new_mgr_locs[argsort]\n\u001b[1;32m   <a href='file:///opt/anaconda3/lib/python3.8/site-packages/pandas/core/internals/managers.py?line=2120'>2121</a>\u001b[0m bp \u001b[39m=\u001b[39m BlockPlacement(new_mgr_locs)\n",
      "\u001b[0;31mKeyboardInterrupt\u001b[0m: "
     ]
    }
   ],
   "source": [
    "import pandas as pd\n",
    "import numpy as np\n",
    "import seaborn as sns\n",
    "import plotly.express as px\n",
    "import matplotlib.pyplot as plt\n",
    "from imblearn.under_sampling import RandomUnderSampler\n",
    "\n",
    "# import package for model building\n",
    "from sklearn.model_selection import train_test_split\n",
    "from imblearn.under_sampling import RandomUnderSampler\n",
    "from sklearn.preprocessing import MinMaxScaler, StandardScaler, OneHotEncoder\n",
    "from sklearn.ensemble import RandomForestClassifier\n",
    "from sklearn.linear_model import LogisticRegression\n",
    "from sklearn.tree import DecisionTreeClassifier\n",
    "from xgboost import XGBClassifier\n",
    "\n",
    "\n",
    "from sklearn.metrics import classification_report, confusion_matrix, roc_auc_score, roc_curve, recall_score\n",
    "from sklearn.model_selection import GridSearchCV, RandomizedSearchCV\n",
    "\n",
    "from tensorflow import keras\n",
    "from keras.models import Sequential\n",
    "from keras.layers import Dense\n",
    "from keras.models import load_model\n",
    "from keras.utils.np_utils import to_categorical\n",
    "\n",
    "\n",
    "\n",
    "# import cleaned dataset\n",
    "accepted_cleaned = pd.read_csv('./cleaned dataset V2.csv')\n",
    "accepted_cleaned.drop(columns=['Unnamed: 0','addr_state'],inplace=True)\n",
    "accepted_cleaned.head()\n",
    "\n",
    "# adjust the import error\n",
    "accepted_cleaned['term'] = accepted_cleaned['term'].str.strip()\n",
    "# remove the columns with only 1 value.\n",
    "accepted_cleaned = accepted_cleaned.drop(columns = ['out_prncp', 'pymnt_plan'])"
   ]
  },
  {
   "cell_type": "code",
   "execution_count": null,
   "metadata": {},
   "outputs": [
    {
     "data": {
      "text/plain": [
       "0    1992069\n",
       "1     268599\n",
       "Name: loan_status, dtype: int64"
      ]
     },
     "execution_count": 3,
     "metadata": {},
     "output_type": "execute_result"
    }
   ],
   "source": [
    "accepted_cleaned.loan_status.value_counts()"
   ]
  },
  {
   "cell_type": "code",
   "execution_count": null,
   "metadata": {},
   "outputs": [
    {
     "name": "stdout",
     "output_type": "stream",
     "text": [
      "<class 'pandas.core.frame.DataFrame'>\n",
      "RangeIndex: 2260668 entries, 0 to 2260667\n",
      "Data columns (total 72 columns):\n",
      " #   Column                      Dtype  \n",
      "---  ------                      -----  \n",
      " 0   loan_amnt                   float64\n",
      " 1   term                        object \n",
      " 2   int_rate                    float64\n",
      " 3   installment                 float64\n",
      " 4   grade                       object \n",
      " 5   emp_length                  object \n",
      " 6   home_ownership              object \n",
      " 7   annual_inc                  float64\n",
      " 8   verification_status         object \n",
      " 9   loan_status                 int64  \n",
      " 10  purpose                     object \n",
      " 11  title                       object \n",
      " 12  dti                         float64\n",
      " 13  delinq_2yrs                 float64\n",
      " 14  fico_range_low              float64\n",
      " 15  fico_range_high             float64\n",
      " 16  inq_last_6mths              float64\n",
      " 17  open_acc                    float64\n",
      " 18  pub_rec                     float64\n",
      " 19  revol_bal                   float64\n",
      " 20  revol_util                  float64\n",
      " 21  total_acc                   float64\n",
      " 22  initial_list_status         object \n",
      " 23  total_pymnt                 float64\n",
      " 24  total_pymnt_inv             float64\n",
      " 25  total_rec_prncp             float64\n",
      " 26  total_rec_int               float64\n",
      " 27  total_rec_late_fee          float64\n",
      " 28  recoveries                  float64\n",
      " 29  collection_recovery_fee     float64\n",
      " 30  last_pymnt_amnt             float64\n",
      " 31  last_fico_range_high        float64\n",
      " 32  last_fico_range_low         float64\n",
      " 33  collections_12_mths_ex_med  float64\n",
      " 34  application_type            object \n",
      " 35  acc_now_delinq              float64\n",
      " 36  tot_coll_amt                float64\n",
      " 37  tot_cur_bal                 float64\n",
      " 38  total_rev_hi_lim            float64\n",
      " 39  acc_open_past_24mths        float64\n",
      " 40  avg_cur_bal                 float64\n",
      " 41  bc_open_to_buy              float64\n",
      " 42  bc_util                     float64\n",
      " 43  chargeoff_within_12_mths    float64\n",
      " 44  delinq_amnt                 float64\n",
      " 45  mo_sin_old_il_acct          float64\n",
      " 46  mo_sin_old_rev_tl_op        float64\n",
      " 47  mo_sin_rcnt_rev_tl_op       float64\n",
      " 48  mo_sin_rcnt_tl              float64\n",
      " 49  mort_acc                    float64\n",
      " 50  mths_since_recent_bc        float64\n",
      " 51  mths_since_recent_inq       float64\n",
      " 52  num_accts_ever_120_pd       float64\n",
      " 53  num_actv_bc_tl              float64\n",
      " 54  num_actv_rev_tl             float64\n",
      " 55  num_bc_sats                 float64\n",
      " 56  num_bc_tl                   float64\n",
      " 57  num_il_tl                   float64\n",
      " 58  num_op_rev_tl               float64\n",
      " 59  num_rev_accts               float64\n",
      " 60  num_rev_tl_bal_gt_0         float64\n",
      " 61  num_sats                    float64\n",
      " 62  num_tl_120dpd_2m            float64\n",
      " 63  num_tl_30dpd                float64\n",
      " 64  num_tl_90g_dpd_24m          float64\n",
      " 65  num_tl_op_past_12m          float64\n",
      " 66  pct_tl_nvr_dlq              float64\n",
      " 67  percent_bc_gt_75            float64\n",
      " 68  pub_rec_bankruptcies        float64\n",
      " 69  tax_liens                   float64\n",
      " 70  total_bal_ex_mort           float64\n",
      " 71  total_bc_limit              float64\n",
      "dtypes: float64(62), int64(1), object(9)\n",
      "memory usage: 1.2+ GB\n"
     ]
    }
   ],
   "source": [
    "accepted_cleaned.info()"
   ]
  },
  {
   "cell_type": "code",
   "execution_count": null,
   "metadata": {},
   "outputs": [],
   "source": [
    "df_features = pd.read_csv('selected_features.csv', index_col=0, \\\n",
    "    converters={\"selected\": lambda x: x.split(\", \")})"
   ]
  },
  {
   "cell_type": "code",
   "execution_count": null,
   "metadata": {},
   "outputs": [
    {
     "data": {
      "text/html": [
       "<div>\n",
       "<style scoped>\n",
       "    .dataframe tbody tr th:only-of-type {\n",
       "        vertical-align: middle;\n",
       "    }\n",
       "\n",
       "    .dataframe tbody tr th {\n",
       "        vertical-align: top;\n",
       "    }\n",
       "\n",
       "    .dataframe thead th {\n",
       "        text-align: right;\n",
       "    }\n",
       "</style>\n",
       "<table border=\"1\" class=\"dataframe\">\n",
       "  <thead>\n",
       "    <tr style=\"text-align: right;\">\n",
       "      <th></th>\n",
       "      <th>method</th>\n",
       "      <th>selected</th>\n",
       "      <th>variation explained</th>\n",
       "    </tr>\n",
       "  </thead>\n",
       "  <tbody>\n",
       "    <tr>\n",
       "      <th>0</th>\n",
       "      <td>method 1 rf</td>\n",
       "      <td>[last_fico_range_high, last_fico_range_low, re...</td>\n",
       "      <td>0</td>\n",
       "    </tr>\n",
       "    <tr>\n",
       "      <th>1</th>\n",
       "      <td>method 1 lr</td>\n",
       "      <td>[recoveries, grade_G, grade_F, collection_reco...</td>\n",
       "      <td>0</td>\n",
       "    </tr>\n",
       "    <tr>\n",
       "      <th>2</th>\n",
       "      <td>method 1 xgb</td>\n",
       "      <td>[recoveries, last_fico_range_high, last_pymnt_...</td>\n",
       "      <td>0</td>\n",
       "    </tr>\n",
       "    <tr>\n",
       "      <th>3</th>\n",
       "      <td>method 1 tree</td>\n",
       "      <td>[last_fico_range_low, recoveries, last_pymnt_a...</td>\n",
       "      <td>0</td>\n",
       "    </tr>\n",
       "    <tr>\n",
       "      <th>4</th>\n",
       "      <td>method 1</td>\n",
       "      <td>[recoveries, last_fico_range_low, last_fico_ra...</td>\n",
       "      <td>0</td>\n",
       "    </tr>\n",
       "    <tr>\n",
       "      <th>5</th>\n",
       "      <td>method 2 rf</td>\n",
       "      <td>[recoveries, last_fico_range_high, last_fico_r...</td>\n",
       "      <td>dict_keys([90.39722808189217])</td>\n",
       "    </tr>\n",
       "    <tr>\n",
       "      <th>6</th>\n",
       "      <td>method 2 log</td>\n",
       "      <td>[recoveries, collection_recovery_fee, last_fic...</td>\n",
       "      <td>dict_keys(['none'])</td>\n",
       "    </tr>\n",
       "    <tr>\n",
       "      <th>7</th>\n",
       "      <td>method 2 xgb</td>\n",
       "      <td>[recoveries, last_fico_range_high, total_rec_p...</td>\n",
       "      <td>dict_keys(['none'])</td>\n",
       "    </tr>\n",
       "    <tr>\n",
       "      <th>8</th>\n",
       "      <td>method 2 tree</td>\n",
       "      <td>[last_fico_range_low, recoveries, last_pymnt_a...</td>\n",
       "      <td>dict_keys([90.57077330284044])</td>\n",
       "    </tr>\n",
       "    <tr>\n",
       "      <th>9</th>\n",
       "      <td>method 3</td>\n",
       "      <td>[total_pymnt, total_rec_prncp, total_rec_int, ...</td>\n",
       "      <td>0</td>\n",
       "    </tr>\n",
       "    <tr>\n",
       "      <th>10</th>\n",
       "      <td>method 4 rf</td>\n",
       "      <td>[int_rate, total_rec_prncp, recoveries, collec...</td>\n",
       "      <td>0</td>\n",
       "    </tr>\n",
       "    <tr>\n",
       "      <th>11</th>\n",
       "      <td>method 4 xgb</td>\n",
       "      <td>[recoveries, last_fico_range_high]</td>\n",
       "      <td>0</td>\n",
       "    </tr>\n",
       "  </tbody>\n",
       "</table>\n",
       "</div>"
      ],
      "text/plain": [
       "           method                                           selected  \\\n",
       "0     method 1 rf  [last_fico_range_high, last_fico_range_low, re...   \n",
       "1     method 1 lr  [recoveries, grade_G, grade_F, collection_reco...   \n",
       "2    method 1 xgb  [recoveries, last_fico_range_high, last_pymnt_...   \n",
       "3   method 1 tree  [last_fico_range_low, recoveries, last_pymnt_a...   \n",
       "4        method 1  [recoveries, last_fico_range_low, last_fico_ra...   \n",
       "5     method 2 rf  [recoveries, last_fico_range_high, last_fico_r...   \n",
       "6    method 2 log  [recoveries, collection_recovery_fee, last_fic...   \n",
       "7    method 2 xgb  [recoveries, last_fico_range_high, total_rec_p...   \n",
       "8   method 2 tree  [last_fico_range_low, recoveries, last_pymnt_a...   \n",
       "9        method 3  [total_pymnt, total_rec_prncp, total_rec_int, ...   \n",
       "10    method 4 rf  [int_rate, total_rec_prncp, recoveries, collec...   \n",
       "11   method 4 xgb                 [recoveries, last_fico_range_high]   \n",
       "\n",
       "               variation explained  \n",
       "0                                0  \n",
       "1                                0  \n",
       "2                                0  \n",
       "3                                0  \n",
       "4                                0  \n",
       "5   dict_keys([90.39722808189217])  \n",
       "6              dict_keys(['none'])  \n",
       "7              dict_keys(['none'])  \n",
       "8   dict_keys([90.57077330284044])  \n",
       "9                                0  \n",
       "10                               0  \n",
       "11                               0  "
      ]
     },
     "execution_count": 6,
     "metadata": {},
     "output_type": "execute_result"
    }
   ],
   "source": [
    "df_features"
   ]
  },
  {
   "cell_type": "code",
   "execution_count": null,
   "metadata": {},
   "outputs": [
    {
     "data": {
      "text/plain": [
       "['recoveries',\n",
       " 'last_fico_range_high',\n",
       " 'last_fico_range_low',\n",
       " 'collection_recovery_fee',\n",
       " 'total_rec_prncp',\n",
       " 'last_pymnt_amnt',\n",
       " 'total_pymnt',\n",
       " 'loan_amnt',\n",
       " 'total_pymnt_inv',\n",
       " 'installment',\n",
       " 'int_rate',\n",
       " 'initial_list_status_w',\n",
       " 'total_rec_late_fee',\n",
       " 'total_rec_int',\n",
       " 'term_60 months',\n",
       " 'num_rev_accts',\n",
       " 'verification_status_Verified',\n",
       " 'acc_open_past_24mths']"
      ]
     },
     "execution_count": 7,
     "metadata": {},
     "output_type": "execute_result"
    }
   ],
   "source": [
    "# use the feature from one method\n",
    "selected_features = df_features.loc[df_features['method']=='method 2 rf','selected'].tolist()[0]\n",
    "selected_features"
   ]
  },
  {
   "cell_type": "markdown",
   "metadata": {},
   "source": [
    "### resplit data"
   ]
  },
  {
   "cell_type": "code",
   "execution_count": null,
   "metadata": {},
   "outputs": [],
   "source": [
    "# split to train and test\n",
    "X_train, X_test, y_train, y_test = train_test_split(\n",
    "    accepted_cleaned.drop(columns='loan_status'), accepted_cleaned['loan_status'], test_size=0.1, random_state=42)"
   ]
  },
  {
   "cell_type": "code",
   "execution_count": null,
   "metadata": {},
   "outputs": [],
   "source": [
    "# select numerical and categorical values\n",
    "X_num_cols = X_train.select_dtypes(include='number').columns.tolist()\n",
    "X_cat_cols = X_train.select_dtypes(include='O').columns.tolist()\n",
    "X_test_num_cols = X_test.select_dtypes(include='number').columns.tolist()\n",
    "X_test_cat_cols = X_test.select_dtypes(include='O').columns.tolist()"
   ]
  },
  {
   "cell_type": "code",
   "execution_count": null,
   "metadata": {},
   "outputs": [],
   "source": [
    "# Normalization and onehot encode.\n",
    "SD = StandardScaler()\n",
    "OE = OneHotEncoder(drop='first')\n",
    "X_num = SD.fit_transform(X_train[X_num_cols])\n",
    "X_cat = OE.fit_transform(X_train[X_cat_cols])\n",
    "X_cat = X_cat.toarray()\n",
    "\n",
    "X_test_num = SD.transform(X_test[X_test_num_cols])\n",
    "X_test_cat = OE.transform(X_test[X_test_cat_cols])\n",
    "X_test_cat = X_test_cat.toarray()"
   ]
  },
  {
   "cell_type": "code",
   "execution_count": null,
   "metadata": {},
   "outputs": [],
   "source": [
    "# combine feature names and matrix names\n",
    "feature_names = np.concatenate((SD.get_feature_names_out(), OE.get_feature_names_out()))\n",
    "X_train = pd.DataFrame(np.concatenate((X_num, X_cat), axis = 1), columns=feature_names)\n",
    "X_test = pd.DataFrame(np.concatenate((X_test_num, X_test_cat), axis = 1), columns=feature_names)"
   ]
  },
  {
   "cell_type": "code",
   "execution_count": null,
   "metadata": {},
   "outputs": [],
   "source": [
    "del accepted_cleaned"
   ]
  },
  {
   "cell_type": "markdown",
   "metadata": {},
   "source": [
    "### Train"
   ]
  },
  {
   "cell_type": "code",
   "execution_count": null,
   "metadata": {},
   "outputs": [
    {
     "data": {
      "text/html": [
       "<div>\n",
       "<style scoped>\n",
       "    .dataframe tbody tr th:only-of-type {\n",
       "        vertical-align: middle;\n",
       "    }\n",
       "\n",
       "    .dataframe tbody tr th {\n",
       "        vertical-align: top;\n",
       "    }\n",
       "\n",
       "    .dataframe thead th {\n",
       "        text-align: right;\n",
       "    }\n",
       "</style>\n",
       "<table border=\"1\" class=\"dataframe\">\n",
       "  <thead>\n",
       "    <tr style=\"text-align: right;\">\n",
       "      <th></th>\n",
       "      <th>method</th>\n",
       "      <th>selected</th>\n",
       "      <th>variation explained</th>\n",
       "    </tr>\n",
       "  </thead>\n",
       "  <tbody>\n",
       "    <tr>\n",
       "      <th>0</th>\n",
       "      <td>method 1 rf</td>\n",
       "      <td>[last_fico_range_high, last_fico_range_low, re...</td>\n",
       "      <td>0</td>\n",
       "    </tr>\n",
       "    <tr>\n",
       "      <th>1</th>\n",
       "      <td>method 1 lr</td>\n",
       "      <td>[recoveries, grade_G, grade_F, collection_reco...</td>\n",
       "      <td>0</td>\n",
       "    </tr>\n",
       "    <tr>\n",
       "      <th>2</th>\n",
       "      <td>method 1 xgb</td>\n",
       "      <td>[recoveries, last_fico_range_high, last_pymnt_...</td>\n",
       "      <td>0</td>\n",
       "    </tr>\n",
       "    <tr>\n",
       "      <th>3</th>\n",
       "      <td>method 1 tree</td>\n",
       "      <td>[last_fico_range_low, recoveries, last_pymnt_a...</td>\n",
       "      <td>0</td>\n",
       "    </tr>\n",
       "    <tr>\n",
       "      <th>4</th>\n",
       "      <td>method 1</td>\n",
       "      <td>[recoveries, last_fico_range_low, last_fico_ra...</td>\n",
       "      <td>0</td>\n",
       "    </tr>\n",
       "    <tr>\n",
       "      <th>5</th>\n",
       "      <td>method 2 rf</td>\n",
       "      <td>[recoveries, last_fico_range_high, last_fico_r...</td>\n",
       "      <td>dict_keys([90.39722808189217])</td>\n",
       "    </tr>\n",
       "    <tr>\n",
       "      <th>6</th>\n",
       "      <td>method 2 log</td>\n",
       "      <td>[recoveries, collection_recovery_fee, last_fic...</td>\n",
       "      <td>dict_keys(['none'])</td>\n",
       "    </tr>\n",
       "    <tr>\n",
       "      <th>7</th>\n",
       "      <td>method 2 xgb</td>\n",
       "      <td>[recoveries, last_fico_range_high, total_rec_p...</td>\n",
       "      <td>dict_keys(['none'])</td>\n",
       "    </tr>\n",
       "    <tr>\n",
       "      <th>8</th>\n",
       "      <td>method 2 tree</td>\n",
       "      <td>[last_fico_range_low, recoveries, last_pymnt_a...</td>\n",
       "      <td>dict_keys([90.57077330284044])</td>\n",
       "    </tr>\n",
       "    <tr>\n",
       "      <th>9</th>\n",
       "      <td>method 3</td>\n",
       "      <td>[total_pymnt, total_rec_prncp, total_rec_int, ...</td>\n",
       "      <td>0</td>\n",
       "    </tr>\n",
       "    <tr>\n",
       "      <th>10</th>\n",
       "      <td>method 4 rf</td>\n",
       "      <td>[int_rate, total_rec_prncp, recoveries, collec...</td>\n",
       "      <td>0</td>\n",
       "    </tr>\n",
       "    <tr>\n",
       "      <th>11</th>\n",
       "      <td>method 4 xgb</td>\n",
       "      <td>[recoveries, last_fico_range_high]</td>\n",
       "      <td>0</td>\n",
       "    </tr>\n",
       "  </tbody>\n",
       "</table>\n",
       "</div>"
      ],
      "text/plain": [
       "           method                                           selected  \\\n",
       "0     method 1 rf  [last_fico_range_high, last_fico_range_low, re...   \n",
       "1     method 1 lr  [recoveries, grade_G, grade_F, collection_reco...   \n",
       "2    method 1 xgb  [recoveries, last_fico_range_high, last_pymnt_...   \n",
       "3   method 1 tree  [last_fico_range_low, recoveries, last_pymnt_a...   \n",
       "4        method 1  [recoveries, last_fico_range_low, last_fico_ra...   \n",
       "5     method 2 rf  [recoveries, last_fico_range_high, last_fico_r...   \n",
       "6    method 2 log  [recoveries, collection_recovery_fee, last_fic...   \n",
       "7    method 2 xgb  [recoveries, last_fico_range_high, total_rec_p...   \n",
       "8   method 2 tree  [last_fico_range_low, recoveries, last_pymnt_a...   \n",
       "9        method 3  [total_pymnt, total_rec_prncp, total_rec_int, ...   \n",
       "10    method 4 rf  [int_rate, total_rec_prncp, recoveries, collec...   \n",
       "11   method 4 xgb                 [recoveries, last_fico_range_high]   \n",
       "\n",
       "               variation explained  \n",
       "0                                0  \n",
       "1                                0  \n",
       "2                                0  \n",
       "3                                0  \n",
       "4                                0  \n",
       "5   dict_keys([90.39722808189217])  \n",
       "6              dict_keys(['none'])  \n",
       "7              dict_keys(['none'])  \n",
       "8   dict_keys([90.57077330284044])  \n",
       "9                                0  \n",
       "10                               0  \n",
       "11                               0  "
      ]
     },
     "execution_count": 12,
     "metadata": {},
     "output_type": "execute_result"
    }
   ],
   "source": [
    "df_features"
   ]
  },
  {
   "cell_type": "markdown",
   "metadata": {},
   "source": [
    "#### Random Forest"
   ]
  },
  {
   "cell_type": "code",
   "execution_count": null,
   "metadata": {},
   "outputs": [
    {
     "name": "stdout",
     "output_type": "stream",
     "text": [
      "(2034601, 18) (2034601,) (226067, 18) (226067,)\n",
      "['recoveries', 'last_fico_range_high', 'last_fico_range_low', 'collection_recovery_fee', 'total_rec_prncp', 'last_pymnt_amnt', 'total_pymnt', 'loan_amnt', 'total_pymnt_inv', 'installment', 'int_rate', 'initial_list_status_w', 'total_rec_late_fee', 'total_rec_int', 'term_60 months', 'num_rev_accts', 'verification_status_Verified', 'acc_open_past_24mths']\n"
     ]
    }
   ],
   "source": [
    "# select features for training\n",
    "rf_selected_features = df_features.loc[df_features['method']=='method 2 rf','selected'].tolist()[0]\n",
    "rf_X_train = X_train[rf_selected_features]\n",
    "rf_X_test = X_test[rf_selected_features]\n",
    "print(rf_X_train.shape,y_train.shape, rf_X_test.shape, y_test.shape)\n",
    "print(rf_selected_features)"
   ]
  },
  {
   "cell_type": "code",
   "execution_count": null,
   "metadata": {},
   "outputs": [
    {
     "name": "stdout",
     "output_type": "stream",
     "text": [
      "(483042, 18) (483042,)\n"
     ]
    }
   ],
   "source": [
    "# undersampling\n",
    "us = RandomUnderSampler()\n",
    "rf_X_train_us, rf_y_train_us = us.fit_resample(rf_X_train, y_train)\n",
    "print(rf_X_train_us.shape, rf_y_train_us.shape)"
   ]
  },
  {
   "cell_type": "code",
   "execution_count": null,
   "metadata": {},
   "outputs": [
    {
     "data": {
      "text/plain": [
       "GridSearchCV(cv=5, estimator=RandomForestClassifier(), param_grid={})"
      ]
     },
     "execution_count": 16,
     "metadata": {},
     "output_type": "execute_result"
    }
   ],
   "source": [
    "# Random forest feature importance\n",
    "RF = RandomForestClassifier()\n",
    "RF_params = {}\n",
    "RF_cv =  GridSearchCV(RF, param_grid=RF_params ,cv=5)\n",
    "RF_cv.fit(rf_X_train_us, rf_y_train_us)"
   ]
  },
  {
   "cell_type": "markdown",
   "metadata": {},
   "source": [
    "#### Logistic Regression"
   ]
  },
  {
   "cell_type": "code",
   "execution_count": 16,
   "metadata": {},
   "outputs": [
    {
     "name": "stdout",
     "output_type": "stream",
     "text": [
      "(2034601, 18) (2034601,) (226067, 18) (226067,)\n",
      "['recoveries', 'last_fico_range_high', 'last_fico_range_low', 'collection_recovery_fee', 'total_rec_prncp', 'last_pymnt_amnt', 'total_pymnt', 'loan_amnt', 'total_pymnt_inv', 'installment', 'int_rate', 'initial_list_status_w', 'total_rec_late_fee', 'total_rec_int', 'term_60 months', 'num_rev_accts', 'verification_status_Verified', 'acc_open_past_24mths']\n"
     ]
    }
   ],
   "source": [
    "# select features for training\n",
    "log_selected_features = df_features.loc[df_features['method']=='method 2 rf','selected'].tolist()[0]\n",
    "log_X_train = X_train[log_selected_features]\n",
    "log_X_test = X_test[log_selected_features]\n",
    "print(log_X_train.shape,y_train.shape, log_X_test.shape, y_test.shape)\n",
    "print(log_selected_features)"
   ]
  },
  {
   "cell_type": "code",
   "execution_count": 17,
   "metadata": {},
   "outputs": [
    {
     "name": "stdout",
     "output_type": "stream",
     "text": [
      "(483042, 18) (483042,)\n"
     ]
    }
   ],
   "source": [
    "# undersampling\n",
    "us = RandomUnderSampler()\n",
    "log_X_train_us, log_y_train_us = us.fit_resample(log_X_train, y_train)\n",
    "print(log_X_train_us.shape, log_y_train_us.shape)"
   ]
  },
  {
   "cell_type": "code",
   "execution_count": 18,
   "metadata": {},
   "outputs": [
    {
     "name": "stderr",
     "output_type": "stream",
     "text": [
      "/opt/anaconda3/lib/python3.8/site-packages/sklearn/linear_model/_logistic.py:814: ConvergenceWarning: lbfgs failed to converge (status=1):\n",
      "STOP: TOTAL NO. of ITERATIONS REACHED LIMIT.\n",
      "\n",
      "Increase the number of iterations (max_iter) or scale the data as shown in:\n",
      "    https://scikit-learn.org/stable/modules/preprocessing.html\n",
      "Please also refer to the documentation for alternative solver options:\n",
      "    https://scikit-learn.org/stable/modules/linear_model.html#logistic-regression\n",
      "  n_iter_i = _check_optimize_result(\n",
      "/opt/anaconda3/lib/python3.8/site-packages/sklearn/linear_model/_logistic.py:814: ConvergenceWarning: lbfgs failed to converge (status=1):\n",
      "STOP: TOTAL NO. of ITERATIONS REACHED LIMIT.\n",
      "\n",
      "Increase the number of iterations (max_iter) or scale the data as shown in:\n",
      "    https://scikit-learn.org/stable/modules/preprocessing.html\n",
      "Please also refer to the documentation for alternative solver options:\n",
      "    https://scikit-learn.org/stable/modules/linear_model.html#logistic-regression\n",
      "  n_iter_i = _check_optimize_result(\n",
      "/opt/anaconda3/lib/python3.8/site-packages/sklearn/linear_model/_logistic.py:814: ConvergenceWarning: lbfgs failed to converge (status=1):\n",
      "STOP: TOTAL NO. of ITERATIONS REACHED LIMIT.\n",
      "\n",
      "Increase the number of iterations (max_iter) or scale the data as shown in:\n",
      "    https://scikit-learn.org/stable/modules/preprocessing.html\n",
      "Please also refer to the documentation for alternative solver options:\n",
      "    https://scikit-learn.org/stable/modules/linear_model.html#logistic-regression\n",
      "  n_iter_i = _check_optimize_result(\n",
      "/opt/anaconda3/lib/python3.8/site-packages/sklearn/linear_model/_logistic.py:814: ConvergenceWarning: lbfgs failed to converge (status=1):\n",
      "STOP: TOTAL NO. of ITERATIONS REACHED LIMIT.\n",
      "\n",
      "Increase the number of iterations (max_iter) or scale the data as shown in:\n",
      "    https://scikit-learn.org/stable/modules/preprocessing.html\n",
      "Please also refer to the documentation for alternative solver options:\n",
      "    https://scikit-learn.org/stable/modules/linear_model.html#logistic-regression\n",
      "  n_iter_i = _check_optimize_result(\n",
      "/opt/anaconda3/lib/python3.8/site-packages/sklearn/linear_model/_logistic.py:814: ConvergenceWarning: lbfgs failed to converge (status=1):\n",
      "STOP: TOTAL NO. of ITERATIONS REACHED LIMIT.\n",
      "\n",
      "Increase the number of iterations (max_iter) or scale the data as shown in:\n",
      "    https://scikit-learn.org/stable/modules/preprocessing.html\n",
      "Please also refer to the documentation for alternative solver options:\n",
      "    https://scikit-learn.org/stable/modules/linear_model.html#logistic-regression\n",
      "  n_iter_i = _check_optimize_result(\n",
      "/opt/anaconda3/lib/python3.8/site-packages/sklearn/linear_model/_logistic.py:814: ConvergenceWarning: lbfgs failed to converge (status=1):\n",
      "STOP: TOTAL NO. of ITERATIONS REACHED LIMIT.\n",
      "\n",
      "Increase the number of iterations (max_iter) or scale the data as shown in:\n",
      "    https://scikit-learn.org/stable/modules/preprocessing.html\n",
      "Please also refer to the documentation for alternative solver options:\n",
      "    https://scikit-learn.org/stable/modules/linear_model.html#logistic-regression\n",
      "  n_iter_i = _check_optimize_result(\n"
     ]
    }
   ],
   "source": [
    "# Logistic Regression coefficient (not suitable for data with multilinearity)\n",
    "LR = LogisticRegression()\n",
    "LR_params = {}\n",
    "LR_cv = GridSearchCV(LR, param_grid=LR_params, cv=5)\n",
    "LR_cv.fit(log_X_train_us, log_y_train_us)\n",
    "del log_X_train_us\n",
    "del log_y_train_us"
   ]
  },
  {
   "cell_type": "markdown",
   "metadata": {},
   "source": [
    "#### XGB"
   ]
  },
  {
   "cell_type": "code",
   "execution_count": 19,
   "metadata": {},
   "outputs": [
    {
     "name": "stdout",
     "output_type": "stream",
     "text": [
      "(2034601, 18) (2034601,) (226067, 18) (226067,)\n",
      "['recoveries', 'last_fico_range_high', 'last_fico_range_low', 'collection_recovery_fee', 'total_rec_prncp', 'last_pymnt_amnt', 'total_pymnt', 'loan_amnt', 'total_pymnt_inv', 'installment', 'int_rate', 'initial_list_status_w', 'total_rec_late_fee', 'total_rec_int', 'term_60 months', 'num_rev_accts', 'verification_status_Verified', 'acc_open_past_24mths']\n"
     ]
    }
   ],
   "source": [
    "# select features for training\n",
    "xgb_selected_features = df_features.loc[df_features['method']=='method 2 rf','selected'].tolist()[0]\n",
    "xgb_X_train = X_train[xgb_selected_features]\n",
    "xgb_X_test = X_test[xgb_selected_features]\n",
    "print(xgb_X_train.shape,y_train.shape, xgb_X_test.shape, y_test.shape)\n",
    "print(xgb_selected_features)"
   ]
  },
  {
   "cell_type": "code",
   "execution_count": 20,
   "metadata": {},
   "outputs": [
    {
     "name": "stdout",
     "output_type": "stream",
     "text": [
      "(483042, 18) (483042,)\n"
     ]
    }
   ],
   "source": [
    "# undersampling\n",
    "us = RandomUnderSampler()\n",
    "xgb_X_train_us, xgb_y_train_us = us.fit_resample(xgb_X_train, y_train)\n",
    "print(xgb_X_train_us.shape, xgb_y_train_us.shape)"
   ]
  },
  {
   "cell_type": "code",
   "execution_count": 21,
   "metadata": {},
   "outputs": [
    {
     "data": {
      "text/plain": [
       "'XGboost = XGBClassifier(use_label_encoder=False)\\nXGboost.fit(xgb_X_train_us, xgb_y_train_us)'"
      ]
     },
     "execution_count": 21,
     "metadata": {},
     "output_type": "execute_result"
    }
   ],
   "source": [
    "'''XGboost = XGBClassifier(use_label_encoder=False)\n",
    "XGboost.fit(xgb_X_train_us, xgb_y_train_us)'''"
   ]
  },
  {
   "cell_type": "code",
   "execution_count": 22,
   "metadata": {},
   "outputs": [
    {
     "name": "stderr",
     "output_type": "stream",
     "text": [
      "/opt/anaconda3/lib/python3.8/site-packages/xgboost/data.py:250: FutureWarning: pandas.Int64Index is deprecated and will be removed from pandas in a future version. Use pandas.Index with the appropriate dtype instead.\n",
      "  elif isinstance(data.columns, (pd.Int64Index, pd.RangeIndex)):\n"
     ]
    },
    {
     "name": "stdout",
     "output_type": "stream",
     "text": [
      "[03:14:58] WARNING: ../src/learner.cc:1115: Starting in XGBoost 1.3.0, the default evaluation metric used with the objective 'binary:logistic' was changed from 'error' to 'logloss'. Explicitly set eval_metric if you'd like to restore the old behavior.\n"
     ]
    },
    {
     "name": "stderr",
     "output_type": "stream",
     "text": [
      "/opt/anaconda3/lib/python3.8/site-packages/xgboost/data.py:250: FutureWarning: pandas.Int64Index is deprecated and will be removed from pandas in a future version. Use pandas.Index with the appropriate dtype instead.\n",
      "  elif isinstance(data.columns, (pd.Int64Index, pd.RangeIndex)):\n"
     ]
    },
    {
     "name": "stdout",
     "output_type": "stream",
     "text": [
      "[03:15:36] WARNING: ../src/learner.cc:1115: Starting in XGBoost 1.3.0, the default evaluation metric used with the objective 'binary:logistic' was changed from 'error' to 'logloss'. Explicitly set eval_metric if you'd like to restore the old behavior.\n"
     ]
    },
    {
     "name": "stderr",
     "output_type": "stream",
     "text": [
      "/opt/anaconda3/lib/python3.8/site-packages/xgboost/data.py:250: FutureWarning: pandas.Int64Index is deprecated and will be removed from pandas in a future version. Use pandas.Index with the appropriate dtype instead.\n",
      "  elif isinstance(data.columns, (pd.Int64Index, pd.RangeIndex)):\n"
     ]
    },
    {
     "name": "stdout",
     "output_type": "stream",
     "text": [
      "[03:16:12] WARNING: ../src/learner.cc:1115: Starting in XGBoost 1.3.0, the default evaluation metric used with the objective 'binary:logistic' was changed from 'error' to 'logloss'. Explicitly set eval_metric if you'd like to restore the old behavior.\n"
     ]
    },
    {
     "name": "stderr",
     "output_type": "stream",
     "text": [
      "/opt/anaconda3/lib/python3.8/site-packages/xgboost/data.py:250: FutureWarning: pandas.Int64Index is deprecated and will be removed from pandas in a future version. Use pandas.Index with the appropriate dtype instead.\n",
      "  elif isinstance(data.columns, (pd.Int64Index, pd.RangeIndex)):\n"
     ]
    },
    {
     "name": "stdout",
     "output_type": "stream",
     "text": [
      "[03:16:50] WARNING: ../src/learner.cc:1115: Starting in XGBoost 1.3.0, the default evaluation metric used with the objective 'binary:logistic' was changed from 'error' to 'logloss'. Explicitly set eval_metric if you'd like to restore the old behavior.\n"
     ]
    },
    {
     "name": "stderr",
     "output_type": "stream",
     "text": [
      "/opt/anaconda3/lib/python3.8/site-packages/xgboost/data.py:250: FutureWarning: pandas.Int64Index is deprecated and will be removed from pandas in a future version. Use pandas.Index with the appropriate dtype instead.\n",
      "  elif isinstance(data.columns, (pd.Int64Index, pd.RangeIndex)):\n"
     ]
    },
    {
     "name": "stdout",
     "output_type": "stream",
     "text": [
      "[03:17:21] WARNING: ../src/learner.cc:1115: Starting in XGBoost 1.3.0, the default evaluation metric used with the objective 'binary:logistic' was changed from 'error' to 'logloss'. Explicitly set eval_metric if you'd like to restore the old behavior.\n"
     ]
    },
    {
     "name": "stderr",
     "output_type": "stream",
     "text": [
      "/opt/anaconda3/lib/python3.8/site-packages/xgboost/data.py:250: FutureWarning: pandas.Int64Index is deprecated and will be removed from pandas in a future version. Use pandas.Index with the appropriate dtype instead.\n",
      "  elif isinstance(data.columns, (pd.Int64Index, pd.RangeIndex)):\n"
     ]
    },
    {
     "name": "stdout",
     "output_type": "stream",
     "text": [
      "[03:17:51] WARNING: ../src/learner.cc:1115: Starting in XGBoost 1.3.0, the default evaluation metric used with the objective 'binary:logistic' was changed from 'error' to 'logloss'. Explicitly set eval_metric if you'd like to restore the old behavior.\n"
     ]
    },
    {
     "data": {
      "text/plain": [
       "GridSearchCV(cv=5,\n",
       "             estimator=XGBClassifier(base_score=None, booster=None,\n",
       "                                     colsample_bylevel=None,\n",
       "                                     colsample_bynode=None,\n",
       "                                     colsample_bytree=None,\n",
       "                                     enable_categorical=False, gamma=None,\n",
       "                                     gpu_id=None, importance_type=None,\n",
       "                                     interaction_constraints=None,\n",
       "                                     learning_rate=None, max_delta_step=None,\n",
       "                                     max_depth=None, min_child_weight=None,\n",
       "                                     missing=nan, monotone_constraints=None,\n",
       "                                     n_estimators=100, n_jobs=None,\n",
       "                                     num_parallel_tree=None, predictor=None,\n",
       "                                     random_state=None, reg_alpha=None,\n",
       "                                     reg_lambda=None, scale_pos_weight=None,\n",
       "                                     subsample=None, tree_method=None,\n",
       "                                     use_label_encoder=False,\n",
       "                                     validate_parameters=None, verbosity=None),\n",
       "             param_grid={})"
      ]
     },
     "execution_count": 22,
     "metadata": {},
     "output_type": "execute_result"
    }
   ],
   "source": [
    "# XGboost\n",
    "XGboost = XGBClassifier(use_label_encoder=False)\n",
    "XG_params = {}\n",
    "XGboost_cv = GridSearchCV(XGboost, param_grid=XG_params ,cv=5)\n",
    "XGboost_cv.fit(xgb_X_train_us, xgb_y_train_us)"
   ]
  },
  {
   "cell_type": "markdown",
   "metadata": {},
   "source": [
    "#### NN"
   ]
  },
  {
   "cell_type": "code",
   "execution_count": 23,
   "metadata": {},
   "outputs": [
    {
     "name": "stdout",
     "output_type": "stream",
     "text": [
      "(2034601, 18) (2034601,) (226067, 18) (226067,)\n",
      "['recoveries', 'last_fico_range_high', 'last_fico_range_low', 'collection_recovery_fee', 'total_rec_prncp', 'last_pymnt_amnt', 'total_pymnt', 'loan_amnt', 'total_pymnt_inv', 'installment', 'int_rate', 'initial_list_status_w', 'total_rec_late_fee', 'total_rec_int', 'term_60 months', 'num_rev_accts', 'verification_status_Verified', 'acc_open_past_24mths']\n"
     ]
    }
   ],
   "source": [
    "# select features for training\n",
    "NN_selected_features = df_features.loc[df_features['method']=='method 2 rf','selected'].tolist()[0]\n",
    "NN_X_train = X_train[NN_selected_features]\n",
    "NN_X_test = X_test[NN_selected_features]\n",
    "print(NN_X_train.shape,y_train.shape, NN_X_test.shape, y_test.shape)\n",
    "print(NN_selected_features)"
   ]
  },
  {
   "cell_type": "code",
   "execution_count": 24,
   "metadata": {},
   "outputs": [
    {
     "name": "stdout",
     "output_type": "stream",
     "text": [
      "(483042, 18) (483042,)\n"
     ]
    }
   ],
   "source": [
    "# undersampling\n",
    "us = RandomUnderSampler()\n",
    "NN_X_train_us, NN_y_train_us = us.fit_resample(NN_X_train, y_train)\n",
    "print(NN_X_train_us.shape, NN_y_train_us.shape)"
   ]
  },
  {
   "cell_type": "code",
   "execution_count": 25,
   "metadata": {},
   "outputs": [
    {
     "name": "stdout",
     "output_type": "stream",
     "text": [
      "(483042, 18) (483042, 2) (226067, 18) (226067, 2)\n"
     ]
    }
   ],
   "source": [
    "# NN\n",
    "NN_y_train_us = to_categorical(NN_y_train_us)\n",
    "NN_y_test = to_categorical(y_test)\n",
    "print(NN_X_train_us.shape, NN_y_train_us.shape, NN_X_test.shape, NN_y_test.shape)"
   ]
  },
  {
   "cell_type": "code",
   "execution_count": 46,
   "metadata": {},
   "outputs": [],
   "source": [
    "#Dense layers only\n",
    "model=Sequential()\n",
    "model.add(Dense(12,input_dim=18,activation='relu'))\n",
    "model.add(Dense(8,activation='relu'))\n",
    "model.add(Dense(2,activation='softmax')) # output the results into two categories and l\n",
    "model.compile(loss='binary_crossentropy',optimizer='adam',metrics=['acc']) #optimizer: help to minimize the loss because it is a classificati\n",
    "\n",
    "# fit model\n",
    "history = model.fit(NN_X_train_us, NN_y_train_us, validation_data=(NN_X_test, NN_y_test), epochs=30, verbose=0)"
   ]
  },
  {
   "cell_type": "markdown",
   "metadata": {},
   "source": [
    "#### Performance Comparison"
   ]
  },
  {
   "cell_type": "code",
   "execution_count": 18,
   "metadata": {},
   "outputs": [],
   "source": [
    "def performance(model, X_test, y_test):\n",
    "    '''take model and test data, output classification report and confusion matrix'''\n",
    "    # precision: true charged off / Predict charged off\n",
    "    # recall: true charged off / Real charged off people\n",
    "    y_pred = model.predict(X_test)\n",
    "    y_prob = model.predict_proba(X_test)\n",
    "    # classification report\n",
    "    print(classification_report(y_pred=y_pred, y_true = y_test))\n",
    "    # print train error\n",
    "    print(confusion_matrix(y_pred=y_pred, y_true = y_test))\n",
    "    # ROC, AUC\n",
    "    fpr, tpr, thres = roc_curve([int(i) for i in y_test],  y_prob[:,1])\n",
    "    auc = roc_auc_score([int(i) for i in y_test], y_prob[:,1])\n",
    "    sns.scatterplot(fpr,tpr)\n",
    "    plt.title(round(auc,4))"
   ]
  },
  {
   "cell_type": "code",
   "execution_count": 19,
   "metadata": {},
   "outputs": [
    {
     "name": "stdout",
     "output_type": "stream",
     "text": [
      "              precision    recall  f1-score   support\n",
      "\n",
      "           0       0.99      0.97      0.98    198989\n",
      "           1       0.81      0.96      0.88     27078\n",
      "\n",
      "    accuracy                           0.97    226067\n",
      "   macro avg       0.90      0.96      0.93    226067\n",
      "weighted avg       0.97      0.97      0.97    226067\n",
      "\n",
      "[[192778   6211]\n",
      " [  1119  25959]]\n"
     ]
    },
    {
     "name": "stderr",
     "output_type": "stream",
     "text": [
      "/opt/anaconda3/lib/python3.8/site-packages/seaborn/_decorators.py:36: FutureWarning: Pass the following variables as keyword args: x, y. From version 0.12, the only valid positional argument will be `data`, and passing other arguments without an explicit keyword will result in an error or misinterpretation.\n",
      "  warnings.warn(\n"
     ]
    },
    {
     "data": {
      "image/png": "[encoded data removed]",
      "text/plain": [
       "<Figure size 432x288 with 1 Axes>"
      ]
     },
     "metadata": {
      "needs_background": "light"
     },
     "output_type": "display_data"
    }
   ],
   "source": [
    "performance(RF_cv, rf_X_test, y_test)"
   ]
  },
  {
   "cell_type": "code",
   "execution_count": 29,
   "metadata": {},
   "outputs": [
    {
     "name": "stdout",
     "output_type": "stream",
     "text": [
      "              precision    recall  f1-score   support\n",
      "\n",
      "           0       0.99      0.96      0.97    198989\n",
      "           1       0.74      0.94      0.83     27078\n",
      "\n",
      "    accuracy                           0.95    226067\n",
      "   macro avg       0.87      0.95      0.90    226067\n",
      "weighted avg       0.96      0.95      0.96    226067\n",
      "\n",
      "[[190248   8741]\n",
      " [  1676  25402]]\n"
     ]
    },
    {
     "name": "stderr",
     "output_type": "stream",
     "text": [
      "/opt/anaconda3/lib/python3.8/site-packages/seaborn/_decorators.py:36: FutureWarning: Pass the following variables as keyword args: x, y. From version 0.12, the only valid positional argument will be `data`, and passing other arguments without an explicit keyword will result in an error or misinterpretation.\n",
      "  warnings.warn(\n"
     ]
    },
    {
     "data": {
      "image/png": "[encoded data removed]",
      "text/plain": [
       "<Figure size 432x288 with 1 Axes>"
      ]
     },
     "metadata": {
      "needs_background": "light"
     },
     "output_type": "display_data"
    }
   ],
   "source": [
    "performance(LR_cv, log_X_test, y_test)"
   ]
  },
  {
   "cell_type": "code",
   "execution_count": 30,
   "metadata": {},
   "outputs": [
    {
     "name": "stdout",
     "output_type": "stream",
     "text": [
      "              precision    recall  f1-score   support\n",
      "\n",
      "           0       1.00      0.98      0.99    198989\n",
      "           1       0.85      0.97      0.90     27078\n",
      "\n",
      "    accuracy                           0.98    226067\n",
      "   macro avg       0.92      0.97      0.95    226067\n",
      "weighted avg       0.98      0.98      0.98    226067\n",
      "\n",
      "[[194251   4738]\n",
      " [   784  26294]]\n"
     ]
    },
    {
     "name": "stderr",
     "output_type": "stream",
     "text": [
      "/opt/anaconda3/lib/python3.8/site-packages/seaborn/_decorators.py:36: FutureWarning: Pass the following variables as keyword args: x, y. From version 0.12, the only valid positional argument will be `data`, and passing other arguments without an explicit keyword will result in an error or misinterpretation.\n",
      "  warnings.warn(\n"
     ]
    },
    {
     "data": {
      "image/png": "[encoded data removed]",
      "text/plain": [
       "<Figure size 432x288 with 1 Axes>"
      ]
     },
     "metadata": {
      "needs_background": "light"
     },
     "output_type": "display_data"
    }
   ],
   "source": [
    "performance(XGboost_cv, xgb_X_test, y_test)"
   ]
  },
  {
   "cell_type": "code",
   "execution_count": 47,
   "metadata": {},
   "outputs": [
    {
     "data": {
      "image/png": "[encoded data removed]",
      "text/plain": [
       "<Figure size 432x288 with 2 Axes>"
      ]
     },
     "metadata": {
      "needs_background": "light"
     },
     "output_type": "display_data"
    }
   ],
   "source": [
    "# evaluate the NN model\n",
    "_, train_acc = model.evaluate(NN_X_train_us, NN_y_train_us, verbose=0)\n",
    "_, test_acc = model.evaluate(NN_X_test, NN_y_test, verbose=0)\n",
    "\n",
    "# plot loss during training\n",
    "plt.subplot(211)\n",
    "plt.title('Loss')\n",
    "plt.plot(history.history['loss'], label='train')\n",
    "plt.plot(history.history['val_loss'], label='test')\n",
    "plt.legend()\n",
    "# plot accuracy during training\n",
    "plt.subplot(212)\n",
    "plt.title('Accuracy')\n",
    "plt.plot(history.history['acc'], label='train')\n",
    "plt.plot(history.history['val_acc'], label='test')\n",
    "plt.legend()\n",
    "plt.show()"
   ]
  },
  {
   "cell_type": "code",
   "execution_count": 48,
   "metadata": {},
   "outputs": [
    {
     "name": "stdout",
     "output_type": "stream",
     "text": [
      "              precision    recall  f1-score   support\n",
      "\n",
      "           0       0.99      0.96      0.98    198989\n",
      "           1       0.77      0.96      0.85     27078\n",
      "\n",
      "    accuracy                           0.96    226067\n",
      "   macro avg       0.88      0.96      0.92    226067\n",
      "weighted avg       0.97      0.96      0.96    226067\n",
      "\n"
     ]
    }
   ],
   "source": [
    "# Prediction accuracy\n",
    "y_prob = model.predict(NN_X_test)\n",
    "y_pred = np.argmax(y_prob, axis = 1)\n",
    "np.unique(y_pred, return_counts = True)\n",
    "print(classification_report(y_pred=y_pred, y_true= y_test))"
   ]
  }
 ],
 "metadata": {
  "interpreter": {
   "hash": "40d3a090f54c6569ab1632332b64b2c03c39dcf918b08424e98f38b5ae0af88f"
  },
  "kernelspec": {
   "display_name": "Python 3 (ipykernel)",
   "language": "python",
   "name": "python3"
  },
  "language_info": {
   "codemirror_mode": {
    "name": "ipython",
    "version": 3
   },
   "file_extension": ".py",
   "mimetype": "text/x-python",
   "name": "python",
   "nbconvert_exporter": "python",
   "pygments_lexer": "ipython3",
   "version": "3.8.8"
  }
 },
 "nbformat": 4,
 "nbformat_minor": 2
}
